{
  "nbformat": 4,
  "nbformat_minor": 0,
  "metadata": {
    "colab": {
      "name": "estruturas_repeticao.ipynb",
      "provenance": [],
      "authorship_tag": "ABX9TyNY0aAu9e+HtmWaxx4vB+S5",
      "include_colab_link": true
    },
    "kernelspec": {
      "name": "python3",
      "display_name": "Python 3"
    },
    "language_info": {
      "name": "python"
    }
  },
  "cells": [
    {
      "cell_type": "markdown",
      "metadata": {
        "id": "view-in-github",
        "colab_type": "text"
      },
      "source": [
        "<a href=\"https://colab.research.google.com/github/userdajheni/santander-datascience/blob/main/estruturas_repeticao.ipynb\" target=\"_parent\"><img src=\"https://colab.research.google.com/assets/colab-badge.svg\" alt=\"Open In Colab\"/></a>"
      ]
    },
    {
      "cell_type": "markdown",
      "metadata": {
        "id": "TBSZ3oRRv6B5"
      },
      "source": [
        "O WHILE possui uma expressão e é executado caso ela seja verdadeira. Ao final de sua execução, ele torna a testar a expressão e caso ela seja verdadeira, ele repete sua execução novamente."
      ]
    },
    {
      "cell_type": "code",
      "metadata": {
        "colab": {
          "base_uri": "https://localhost:8080/"
        },
        "id": "sFSYm59hwJjE",
        "outputId": "580fb478-4a2d-4420-8a2e-2651ad60f65f"
      },
      "source": [
        "horas = int(input(\"Que horas são? \"))\n",
        "\n",
        "while 0 < horas < 6:\n",
        "  print(\"Está de madrugada\")\n",
        "  horas = horas + 1\n",
        "else:\n",
        "  print(\"Não está de madrugada\")"
      ],
      "execution_count": 3,
      "outputs": [
        {
          "output_type": "stream",
          "text": [
            "Que horas são? 1\n",
            "Está de madrugada\n",
            "Está de madrugada\n",
            "Está de madrugada\n",
            "Está de madrugada\n",
            "Está de madrugada\n",
            "Não está de madrugada\n"
          ],
          "name": "stdout"
        }
      ]
    },
    {
      "cell_type": "markdown",
      "metadata": {
        "id": "pgHOBalsxPQg"
      },
      "source": [
        "Exemplo: Continuar decrementando o numero de pipocas até chegar em 0 (zero)"
      ]
    },
    {
      "cell_type": "code",
      "metadata": {
        "colab": {
          "base_uri": "https://localhost:8080/"
        },
        "id": "GnaSJs5SxVXi",
        "outputId": "e4c0bf3e-729c-4f1a-dfcd-e727ad9c2f77"
      },
      "source": [
        "num_pipoca = int(input(\"Qual é o numero de pipocas? \"))\n",
        "while num_pipoca > 0:\n",
        "  print(\"O numero de pipoca é: \", num_pipoca)\n",
        "  num_pipoca = num_pipoca - 1"
      ],
      "execution_count": 6,
      "outputs": [
        {
          "output_type": "stream",
          "text": [
            "Qual é o numero de pipocas? 10\n",
            "O numero de pipoca é:  10\n",
            "O numero de pipoca é:  9\n",
            "O numero de pipoca é:  8\n",
            "O numero de pipoca é:  7\n",
            "O numero de pipoca é:  6\n",
            "O numero de pipoca é:  5\n",
            "O numero de pipoca é:  4\n",
            "O numero de pipoca é:  3\n",
            "O numero de pipoca é:  2\n",
            "O numero de pipoca é:  1\n"
          ],
          "name": "stdout"
        }
      ]
    },
    {
      "cell_type": "code",
      "metadata": {
        "colab": {
          "base_uri": "https://localhost:8080/"
        },
        "id": "lOlx2tkKxuFl",
        "outputId": "4beeae1e-845d-4790-8265-ed5939a7d01f"
      },
      "source": [
        "num_pipoca = int(input(\"Qual é o numero de pipocas? \"))\n",
        "while num_pipoca >= 0:\n",
        "  print(\"O numero de pipoca é: \", num_pipoca)\n",
        "  num_pipoca = num_pipoca - 1"
      ],
      "execution_count": 7,
      "outputs": [
        {
          "output_type": "stream",
          "text": [
            "Qual é o numero de pipocas? 5\n",
            "O numero de pipoca é:  5\n",
            "O numero de pipoca é:  4\n",
            "O numero de pipoca é:  3\n",
            "O numero de pipoca é:  2\n",
            "O numero de pipoca é:  1\n",
            "O numero de pipoca é:  0\n"
          ],
          "name": "stdout"
        }
      ]
    },
    {
      "cell_type": "code",
      "metadata": {
        "colab": {
          "base_uri": "https://localhost:8080/"
        },
        "id": "qyBmguXJyxQK",
        "outputId": "77e70298-104f-480e-9518-0044536b17de"
      },
      "source": [
        "salario = float(input(\"Informe seu salario: \"))\n",
        "while salario < 1105.0:\n",
        "  salario = float(input(\"Entre com um valor MAIOR que o salario minimo (1105.0): \"))\n",
        "else:\n",
        "  print(\"O valor que você digitou foi de: \", salario)"
      ],
      "execution_count": 8,
      "outputs": [
        {
          "output_type": "stream",
          "text": [
            "Informe seu salario: 900\n",
            "Entre com um valor MAIOR que o salario minimo (1105.0): 1200\n",
            "O valor que você digitou foi de:  1200.0\n"
          ],
          "name": "stdout"
        }
      ]
    },
    {
      "cell_type": "code",
      "metadata": {
        "colab": {
          "base_uri": "https://localhost:8080/"
        },
        "id": "zeivoeIwzRoh",
        "outputId": "a0d528ac-cc7a-43b6-9a8c-de136b97bc65"
      },
      "source": [
        "resposta = input(\"Digite OK: \")\n",
        "while resposta != \"OK\":\n",
        "  resposta = input(\"Não foi isso que pedi, digite OK: \")\n",
        "else:\n",
        "  print(\"Obrigado\")"
      ],
      "execution_count": 10,
      "outputs": [
        {
          "output_type": "stream",
          "text": [
            "Digite OK: ok\n",
            "Não foi isso que pedi, digite OK: k\n",
            "Não foi isso que pedi, digite OK: s\n",
            "Não foi isso que pedi, digite OK: OK\n",
            "Obrigado\n"
          ],
          "name": "stdout"
        }
      ]
    },
    {
      "cell_type": "code",
      "metadata": {
        "colab": {
          "base_uri": "https://localhost:8080/"
        },
        "id": "c1LSPNmI0jP7",
        "outputId": "54151367-6815-4151-bd93-75750bf48a00"
      },
      "source": [
        "contador = 0\n",
        "numero = int(input(\"Digite um numero: \"))\n",
        "\n",
        "while contador < numero:\n",
        "  print(contador)\n",
        "  contador = contador + 1"
      ],
      "execution_count": 11,
      "outputs": [
        {
          "output_type": "stream",
          "text": [
            "Digite um numero: 10\n",
            "0\n",
            "1\n",
            "2\n",
            "3\n",
            "4\n",
            "5\n",
            "6\n",
            "7\n",
            "8\n",
            "9\n"
          ],
          "name": "stdout"
        }
      ]
    },
    {
      "cell_type": "code",
      "metadata": {
        "colab": {
          "base_uri": "https://localhost:8080/"
        },
        "id": "_HWsxJWy02AQ",
        "outputId": "eb33a75b-3d0e-468d-e25a-d8462192344f"
      },
      "source": [
        "contador = 0\n",
        "numero = int(input(\"Digite um numero: \"))\n",
        "\n",
        "while contador <= numero:\n",
        "  print(contador)\n",
        "  contador = contador + 1"
      ],
      "execution_count": 12,
      "outputs": [
        {
          "output_type": "stream",
          "text": [
            "Digite um numero: 10\n",
            "0\n",
            "1\n",
            "2\n",
            "3\n",
            "4\n",
            "5\n",
            "6\n",
            "7\n",
            "8\n",
            "9\n",
            "10\n"
          ],
          "name": "stdout"
        }
      ]
    },
    {
      "cell_type": "code",
      "metadata": {
        "colab": {
          "base_uri": "https://localhost:8080/"
        },
        "id": "mIW1gBtx1Zqa",
        "outputId": "55f5fb5a-8985-456f-9835-820b18fe15e6"
      },
      "source": [
        "while True:\n",
        "  resposta = input(\"Digite ok: \")\n",
        "  if resposta == \"ok\":\n",
        "    break"
      ],
      "execution_count": 14,
      "outputs": [
        {
          "output_type": "stream",
          "text": [
            "Digite ok: k\n",
            "Digite ok: h\n",
            "Digite ok: ok\n"
          ],
          "name": "stdout"
        }
      ]
    },
    {
      "cell_type": "code",
      "metadata": {
        "colab": {
          "base_uri": "https://localhost:8080/"
        },
        "id": "sWiC1FJ72fGq",
        "outputId": "89b0b247-7de4-45be-84e2-ca728aa0c0c2"
      },
      "source": [
        "contador = 0\n",
        "while contador < 10:\n",
        "  contador = contador + 1\n",
        "  if contador == 1:\n",
        "    print(contador, \"item limpo\")\n",
        "  else:\n",
        "    print(contador, \"itens limpos\")\n",
        "\n",
        "print(\"Fim da repetição do bloco while\")"
      ],
      "execution_count": 15,
      "outputs": [
        {
          "output_type": "stream",
          "text": [
            "1 item limpo\n",
            "2 itens limpos\n",
            "3 itens limpos\n",
            "4 itens limpos\n",
            "5 itens limpos\n",
            "6 itens limpos\n",
            "7 itens limpos\n",
            "8 itens limpos\n",
            "9 itens limpos\n",
            "10 itens limpos\n",
            "Fim da repetição do bloco while\n"
          ],
          "name": "stdout"
        }
      ]
    },
    {
      "cell_type": "code",
      "metadata": {
        "colab": {
          "base_uri": "https://localhost:8080/"
        },
        "id": "1mFeHGc23NIe",
        "outputId": "e40364a1-686d-4e4f-d3bf-fd55916a0489"
      },
      "source": [
        "contador = 0\n",
        "while contador < 10:\n",
        "  if contador == 0:\n",
        "    print(\"Nenhum item foi limpado\")\n",
        "  elif contador == 1:\n",
        "    print(contador, \"item limpo\")\n",
        "  else:\n",
        "    print(contador, \"itens limpos\")\n",
        "  contador = contador + 1\n",
        "\n",
        "print(\"Fim da repetição do bloco while\")"
      ],
      "execution_count": 17,
      "outputs": [
        {
          "output_type": "stream",
          "text": [
            "Nenhum item foi limpado\n",
            "1 item limpo\n",
            "2 itens limpos\n",
            "3 itens limpos\n",
            "4 itens limpos\n",
            "5 itens limpos\n",
            "6 itens limpos\n",
            "7 itens limpos\n",
            "8 itens limpos\n",
            "9 itens limpos\n",
            "Fim da repetição do bloco while\n"
          ],
          "name": "stdout"
        }
      ]
    },
    {
      "cell_type": "code",
      "metadata": {
        "colab": {
          "base_uri": "https://localhost:8080/"
        },
        "id": "v6XWvmB138JU",
        "outputId": "c6ed23de-6dde-449e-8d37-11576ad48ba9"
      },
      "source": [
        "contador = 0\n",
        "\n",
        "while True:\n",
        "  if contador < 10:\n",
        "    contador = contador + 1\n",
        "    if contador == 1:\n",
        "      print(contador, \"item limpo\")\n",
        "    else:\n",
        "      print(contador, \"itens limpos\")\n",
        "  else:\n",
        "    break\n",
        "\n",
        "print(\"Fim da repetição do bloco\")"
      ],
      "execution_count": 19,
      "outputs": [
        {
          "output_type": "stream",
          "text": [
            "1 item limpo\n",
            "2 itens limpos\n",
            "3 itens limpos\n",
            "4 itens limpos\n",
            "5 itens limpos\n",
            "6 itens limpos\n",
            "7 itens limpos\n",
            "8 itens limpos\n",
            "9 itens limpos\n",
            "10 itens limpos\n",
            "Fim da repetição do bloco\n"
          ],
          "name": "stdout"
        }
      ]
    },
    {
      "cell_type": "code",
      "metadata": {
        "colab": {
          "base_uri": "https://localhost:8080/"
        },
        "id": "yYsu_Gf_4yI-",
        "outputId": "a410a94d-914c-480b-cf90-047ab3fafe1d"
      },
      "source": [
        "senha = input(\"Digite sua senha: \")\n",
        "while senha != \"LetsCode\":\n",
        "  senha = input(\"Senha inválida. Tente novamente: \")\n",
        "print(\"Acesso permitido\")"
      ],
      "execution_count": 20,
      "outputs": [
        {
          "output_type": "stream",
          "text": [
            "Digite sua senha: 123\n",
            "Senha inválida. Tente novamente: abc\n",
            "Senha inválida. Tente novamente: LetsCode\n",
            "Acesso permitido\n"
          ],
          "name": "stdout"
        }
      ]
    },
    {
      "cell_type": "code",
      "metadata": {
        "colab": {
          "base_uri": "https://localhost:8080/"
        },
        "id": "ES5CAA-o5e8H",
        "outputId": "4a937404-8ad1-44b9-89ee-ea4403653a59"
      },
      "source": [
        "contador = 0\n",
        "while contador < 10:\n",
        "  contador = contador + 1\n",
        "  if contador == 6:\n",
        "    continue\n",
        "  print(contador, \"itens limpos\")\n",
        "\n",
        "print(\"Fim do bloco de repetição\")"
      ],
      "execution_count": 24,
      "outputs": [
        {
          "output_type": "stream",
          "text": [
            "1 itens limpos\n",
            "2 itens limpos\n",
            "3 itens limpos\n",
            "4 itens limpos\n",
            "5 itens limpos\n",
            "7 itens limpos\n",
            "8 itens limpos\n",
            "9 itens limpos\n",
            "10 itens limpos\n",
            "Fim do bloco de repetição\n"
          ],
          "name": "stdout"
        }
      ]
    }
  ]
}