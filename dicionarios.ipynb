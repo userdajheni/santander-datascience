{
  "nbformat": 4,
  "nbformat_minor": 0,
  "metadata": {
    "colab": {
      "name": "dicionarios.ipynb",
      "provenance": [],
      "authorship_tag": "ABX9TyNiP4kvaySNHnHw85rzY+SJ",
      "include_colab_link": true
    },
    "kernelspec": {
      "name": "python3",
      "display_name": "Python 3"
    },
    "language_info": {
      "name": "python"
    }
  },
  "cells": [
    {
      "cell_type": "markdown",
      "metadata": {
        "id": "view-in-github",
        "colab_type": "text"
      },
      "source": [
        "<a href=\"https://colab.research.google.com/github/userdajheni/santander-datascience/blob/main/dicionarios.ipynb\" target=\"_parent\"><img src=\"https://colab.research.google.com/assets/colab-badge.svg\" alt=\"Open In Colab\"/></a>"
      ]
    },
    {
      "cell_type": "markdown",
      "metadata": {
        "id": "Oymeb-9K9WAI"
      },
      "source": [
        "**Dicionario** é uma coleção de dados assim como listas e tuplas, porém, enquanto as tuplas são indexadas por um indice os dicionrios são indexados por chaves. Todo elemento em um dicionario possui uma chave e um valor."
      ]
    },
    {
      "cell_type": "code",
      "metadata": {
        "colab": {
          "base_uri": "https://localhost:8080/"
        },
        "id": "iG3M7NPd58tr",
        "outputId": "7eff9053-7442-4ea7-b49f-e60e4c3534f0"
      },
      "source": [
        "dicionario = {}\n",
        "dicionario['cat'] = \"gato\"\n",
        "dicionario['dog'] = \"cachorro\"\n",
        "dicionario['mouse'] = \"rato\"\n",
        "print(dicionario)\n",
        "print(type(dicionario))"
      ],
      "execution_count": null,
      "outputs": [
        {
          "output_type": "stream",
          "text": [
            "{'cat': 'gato', 'dog': 'cachorro', 'mouse': 'rato'}\n",
            "<class 'dict'>\n"
          ],
          "name": "stdout"
        }
      ]
    },
    {
      "cell_type": "code",
      "metadata": {
        "colab": {
          "base_uri": "https://localhost:8080/"
        },
        "id": "kD7LegxJ99X8",
        "outputId": "1f002bc2-157f-45cf-c813-771804df96a7"
      },
      "source": [
        "dicionario['dog'] = \"cão\"\n",
        "print(dicionario)"
      ],
      "execution_count": null,
      "outputs": [
        {
          "output_type": "stream",
          "text": [
            "{'cat': 'gato', 'dog': 'cão', 'mouse': 'rato'}\n"
          ],
          "name": "stdout"
        }
      ]
    },
    {
      "cell_type": "code",
      "metadata": {
        "id": "bvdPfp---J5u",
        "colab": {
          "base_uri": "https://localhost:8080/"
        },
        "outputId": "8cb19b7a-b15d-4ca1-df72-bc2f0c83381c"
      },
      "source": [
        "dados_cidade = {\n",
        "    'nome': 'São Paulo',\n",
        "    'estado': 'São Paulo',\n",
        "    'area_km': 1521,\n",
        "    'populacao_milhoes': 12.18\n",
        "}\n",
        "\n",
        "print(dados_cidade)"
      ],
      "execution_count": 1,
      "outputs": [
        {
          "output_type": "stream",
          "text": [
            "{'nome': 'São Paulo', 'estado': 'São Paulo', 'area_km': 1521, 'populacao_milhoes': 12.18}\n"
          ],
          "name": "stdout"
        }
      ]
    },
    {
      "cell_type": "code",
      "metadata": {
        "colab": {
          "base_uri": "https://localhost:8080/"
        },
        "id": "uQpt5py5pCRZ",
        "outputId": "2fa70bbf-1dc7-4939-ee2c-45c437c9a918"
      },
      "source": [
        "# Acessar ou atribuir um valor a uma chave\n",
        "dados_cidade['pais'] = 'Brasil'\n",
        "print(dados_cidade)"
      ],
      "execution_count": 3,
      "outputs": [
        {
          "output_type": "stream",
          "text": [
            "{'nome': 'São Paulo', 'estado': 'São Paulo', 'area_km': 1521, 'populacao_milhoes': 12.18, 'pais': 'Brasil'}\n"
          ],
          "name": "stdout"
        }
      ]
    },
    {
      "cell_type": "code",
      "metadata": {
        "colab": {
          "base_uri": "https://localhost:8080/"
        },
        "id": "GZXsUq9EpZnd",
        "outputId": "0fd0bff0-bb21-4ac0-cc90-6d5c0d3a398e"
      },
      "source": [
        "print(dados_cidade['nome'])"
      ],
      "execution_count": 4,
      "outputs": [
        {
          "output_type": "stream",
          "text": [
            "São Paulo\n"
          ],
          "name": "stdout"
        }
      ]
    },
    {
      "cell_type": "code",
      "metadata": {
        "colab": {
          "base_uri": "https://localhost:8080/"
        },
        "id": "1OFWf34Cpcbh",
        "outputId": "74e59b9f-3d1d-47f2-96cd-002cbc002b35"
      },
      "source": [
        "# Valores alterados diretamente\n",
        "print(dados_cidade['area_km'])\n",
        "dados_cidade['area_km'] = 1880\n",
        "print(dados_cidade['area_km'])"
      ],
      "execution_count": 5,
      "outputs": [
        {
          "output_type": "stream",
          "text": [
            "1521\n",
            "1880\n"
          ],
          "name": "stdout"
        }
      ]
    },
    {
      "cell_type": "code",
      "metadata": {
        "colab": {
          "base_uri": "https://localhost:8080/"
        },
        "id": "J-vswFR8pye8",
        "outputId": "172bacb0-5a62-4a1f-eb7c-bd9c320babb0"
      },
      "source": [
        "# Método copy copia os valores permitindo que a nova variavel seja um dicionario completamente independente\n",
        "dados_cidades2 = dados_cidade\n",
        "dados_cidades2['nome'] = 'Santos'\n",
        "print(dados_cidade)\n",
        "print(dados_cidades2)\n",
        "\n",
        "print(\"\")\n",
        "print(\"\")\n",
        "\n",
        "# Da forma escrita anteriormente o dicionario principal também muda, para que isso não aconteça utilize o copy\n",
        "dados_cidades3 = dados_cidade.copy()\n",
        "dados_cidades3['nome'] = 'Barueri'\n",
        "print(dados_cidade)\n",
        "print(dados_cidades3)"
      ],
      "execution_count": 13,
      "outputs": [
        {
          "output_type": "stream",
          "text": [
            "{'nome': 'Santos', 'estado': 'São Paulo', 'area_km': 1880, 'populacao_milhoes': 12.18, 'pais': 'Brasil'}\n",
            "{'nome': 'Santos', 'estado': 'São Paulo', 'area_km': 1880, 'populacao_milhoes': 12.18, 'pais': 'Brasil'}\n",
            "\n",
            "\n",
            "{'nome': 'Santos', 'estado': 'São Paulo', 'area_km': 1880, 'populacao_milhoes': 12.18, 'pais': 'Brasil'}\n",
            "{'nome': 'Barueri', 'estado': 'São Paulo', 'area_km': 1880, 'populacao_milhoes': 12.18, 'pais': 'Brasil'}\n"
          ],
          "name": "stdout"
        }
      ]
    },
    {
      "cell_type": "code",
      "metadata": {
        "colab": {
          "base_uri": "https://localhost:8080/"
        },
        "id": "eLtZBjdUsU_q",
        "outputId": "9969c69d-01a7-4054-a5d1-d8db84b32396"
      },
      "source": [
        "# A concatenação, atualização ou combinação de dois dicionarios pode ser feito por meio do método update\n",
        "novos_dados = {\n",
        "    'populacao_milhoes' : 15,\n",
        "    'fundacao' : '25/01/1554'\n",
        "}\n",
        "\n",
        "# Atualizar o dicionario original com os novos dados\n",
        "dados_cidade.update(novos_dados)\n",
        "print(dados_cidade)"
      ],
      "execution_count": 16,
      "outputs": [
        {
          "output_type": "stream",
          "text": [
            "{'nome': 'Santos', 'estado': 'São Paulo', 'area_km': 1880, 'populacao_milhoes': 15, 'pais': 'Brasil', 'fundacao': '25/01/1554'}\n"
          ],
          "name": "stdout"
        }
      ]
    },
    {
      "cell_type": "code",
      "metadata": {
        "colab": {
          "base_uri": "https://localhost:8080/"
        },
        "id": "0x9t682RuBhH",
        "outputId": "f060290d-26ee-4bb2-e4e7-e1b0f8e30126"
      },
      "source": [
        "print(dados_cidade.get('Prefeito'))"
      ],
      "execution_count": 17,
      "outputs": [
        {
          "output_type": "stream",
          "text": [
            "None\n"
          ],
          "name": "stdout"
        }
      ]
    },
    {
      "cell_type": "code",
      "metadata": {
        "colab": {
          "base_uri": "https://localhost:8080/"
        },
        "id": "qgCqimN2uGvs",
        "outputId": "106154c4-25a6-4b19-9e3e-567d26eba42f"
      },
      "source": [
        "print(dados_cidade.keys()) #Retorna uma lista de chaves de um dicionario\n",
        "print(\"\")\n",
        "print(dados_cidade.values()) # Retorna uma lista de valores de um dicionario\n",
        "print(\"\")\n",
        "print(dados_cidade.items()) # Retorna uma lista de tuplas (chave, valor) de um dicionario"
      ],
      "execution_count": 18,
      "outputs": [
        {
          "output_type": "stream",
          "text": [
            "dict_keys(['nome', 'estado', 'area_km', 'populacao_milhoes', 'pais', 'fundacao'])\n",
            "\n",
            "dict_values(['Santos', 'São Paulo', 1880, 15, 'Brasil', '25/01/1554'])\n",
            "\n",
            "dict_items([('nome', 'Santos'), ('estado', 'São Paulo'), ('area_km', 1880), ('populacao_milhoes', 15), ('pais', 'Brasil'), ('fundacao', '25/01/1554')])\n"
          ],
          "name": "stdout"
        }
      ]
    }
  ]
}