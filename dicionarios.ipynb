{
  "nbformat": 4,
  "nbformat_minor": 0,
  "metadata": {
    "colab": {
      "name": "dicionarios.ipynb",
      "provenance": [],
      "authorship_tag": "ABX9TyMVd4z0KiRDoID02/f43wYj",
      "include_colab_link": true
    },
    "kernelspec": {
      "name": "python3",
      "display_name": "Python 3"
    },
    "language_info": {
      "name": "python"
    }
  },
  "cells": [
    {
      "cell_type": "markdown",
      "metadata": {
        "id": "view-in-github",
        "colab_type": "text"
      },
      "source": [
        "<a href=\"https://colab.research.google.com/github/userdajheni/santander-datascience/blob/main/dicionarios.ipynb\" target=\"_parent\"><img src=\"https://colab.research.google.com/assets/colab-badge.svg\" alt=\"Open In Colab\"/></a>"
      ]
    },
    {
      "cell_type": "markdown",
      "metadata": {
        "id": "Oymeb-9K9WAI"
      },
      "source": [
        "**Dicionario** é uma coleção de dados assim como listas e tuplas, porém, enquanto as tuplas são indexadas por um indice os dicionrios são indexados por chaves. Todo elemento em um dicionario possui uma chave e um valor."
      ]
    },
    {
      "cell_type": "code",
      "metadata": {
        "colab": {
          "base_uri": "https://localhost:8080/"
        },
        "id": "iG3M7NPd58tr",
        "outputId": "7eff9053-7442-4ea7-b49f-e60e4c3534f0"
      },
      "source": [
        "dicionario = {}\n",
        "dicionario['cat'] = \"gato\"\n",
        "dicionario['dog'] = \"cachorro\"\n",
        "dicionario['mouse'] = \"rato\"\n",
        "print(dicionario)\n",
        "print(type(dicionario))"
      ],
      "execution_count": 1,
      "outputs": [
        {
          "output_type": "stream",
          "text": [
            "{'cat': 'gato', 'dog': 'cachorro', 'mouse': 'rato'}\n",
            "<class 'dict'>\n"
          ],
          "name": "stdout"
        }
      ]
    },
    {
      "cell_type": "code",
      "metadata": {
        "colab": {
          "base_uri": "https://localhost:8080/"
        },
        "id": "kD7LegxJ99X8",
        "outputId": "1f002bc2-157f-45cf-c813-771804df96a7"
      },
      "source": [
        "dicionario['dog'] = \"cão\"\n",
        "print(dicionario)"
      ],
      "execution_count": 2,
      "outputs": [
        {
          "output_type": "stream",
          "text": [
            "{'cat': 'gato', 'dog': 'cão', 'mouse': 'rato'}\n"
          ],
          "name": "stdout"
        }
      ]
    },
    {
      "cell_type": "code",
      "metadata": {
        "id": "bvdPfp---J5u"
      },
      "source": [
        ""
      ],
      "execution_count": null,
      "outputs": []
    }
  ]
}