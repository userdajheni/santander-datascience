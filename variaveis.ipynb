{
  "nbformat": 4,
  "nbformat_minor": 0,
  "metadata": {
    "colab": {
      "name": "variaveis.ipynb",
      "provenance": [],
      "authorship_tag": "ABX9TyOalgRKfOhSK/+wiLKJWRU9",
      "include_colab_link": true
    },
    "kernelspec": {
      "name": "python3",
      "display_name": "Python 3"
    },
    "language_info": {
      "name": "python"
    }
  },
  "cells": [
    {
      "cell_type": "markdown",
      "metadata": {
        "id": "view-in-github",
        "colab_type": "text"
      },
      "source": [
        "<a href=\"https://colab.research.google.com/github/userdajheni/santander-datascience/blob/main/variaveis.ipynb\" target=\"_parent\"><img src=\"https://colab.research.google.com/assets/colab-badge.svg\" alt=\"Open In Colab\"/></a>"
      ]
    },
    {
      "cell_type": "markdown",
      "metadata": {
        "id": "EhD7dyU7wZjP"
      },
      "source": [
        "variáveis são pedacinhos de memória onde armazenamos valores. Sempre que referenciamos o nome de uma variavel, o valor dela é acessado. Definimos uma variavel dando um nome a ela e usando o sinal de igual (=) para atribuir um valor."
      ]
    },
    {
      "cell_type": "code",
      "metadata": {
        "id": "Bqsj9l8lwuo_"
      },
      "source": [
        "x = -10 #int\n",
        "y = 3.14 #float\n",
        "curso = \"LetsCode\" #string\n",
        "primeiraAula = True #Boolean"
      ],
      "execution_count": null,
      "outputs": []
    },
    {
      "cell_type": "code",
      "metadata": {
        "colab": {
          "base_uri": "https://localhost:8080/"
        },
        "id": "nj4Vj2wsw8Rt",
        "outputId": "88212269-df3d-474d-b0ff-e7f708c9f59f"
      },
      "source": [
        "x = 5\n",
        "print(type(x))"
      ],
      "execution_count": 1,
      "outputs": [
        {
          "output_type": "stream",
          "text": [
            "<class 'int'>\n"
          ],
          "name": "stdout"
        }
      ]
    },
    {
      "cell_type": "code",
      "metadata": {
        "colab": {
          "base_uri": "https://localhost:8080/"
        },
        "id": "csDaONTnxCfX",
        "outputId": "d7ddf8c9-270f-4c5e-b7c2-1a974d76b09d"
      },
      "source": [
        "preco = 19.99\n",
        "print(preco, type(preco))"
      ],
      "execution_count": 2,
      "outputs": [
        {
          "output_type": "stream",
          "text": [
            "19.99 <class 'float'>\n"
          ],
          "name": "stdout"
        }
      ]
    }
  ]
}