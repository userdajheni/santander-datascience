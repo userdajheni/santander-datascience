{
  "nbformat": 4,
  "nbformat_minor": 0,
  "metadata": {
    "colab": {
      "name": "estruturas_sequenciais.ipynb",
      "provenance": [],
      "authorship_tag": "ABX9TyPWTOOzOr/y+B0Kuafyq64F",
      "include_colab_link": true
    },
    "kernelspec": {
      "name": "python3",
      "display_name": "Python 3"
    },
    "language_info": {
      "name": "python"
    }
  },
  "cells": [
    {
      "cell_type": "markdown",
      "metadata": {
        "id": "view-in-github",
        "colab_type": "text"
      },
      "source": [
        "<a href=\"https://colab.research.google.com/github/userdajheni/santander-datascience/blob/main/estruturas_sequenciais.ipynb\" target=\"_parent\"><img src=\"https://colab.research.google.com/assets/colab-badge.svg\" alt=\"Open In Colab\"/></a>"
      ]
    },
    {
      "cell_type": "code",
      "metadata": {
        "colab": {
          "base_uri": "https://localhost:8080/"
        },
        "id": "z326kFlQimeY",
        "outputId": "f6b2da44-61da-478f-ab76-68f748dcb042"
      },
      "source": [
        "idade = input(\"Informe a sua idade: \")\n",
        "print(idade, type(idade)) #Tudo o que é lido pelo input() é considerado uma string"
      ],
      "execution_count": 3,
      "outputs": [
        {
          "output_type": "stream",
          "text": [
            "Informe a sua idade: 25\n",
            "25 <class 'str'>\n"
          ],
          "name": "stdout"
        }
      ]
    },
    {
      "cell_type": "code",
      "metadata": {
        "colab": {
          "base_uri": "https://localhost:8080/"
        },
        "id": "Z_Rg8ZsmjDWv",
        "outputId": "013f9a4f-b9bd-4faf-d0cb-c6e0235139db"
      },
      "source": [
        "#Converter a idade para um tipo inteiro\n",
        "idade = int(idade)\n",
        "print(idade, type(idade))"
      ],
      "execution_count": 4,
      "outputs": [
        {
          "output_type": "stream",
          "text": [
            "25 <class 'int'>\n"
          ],
          "name": "stdout"
        }
      ]
    },
    {
      "cell_type": "code",
      "metadata": {
        "colab": {
          "base_uri": "https://localhost:8080/"
        },
        "id": "P78W1Lg1jdXn",
        "outputId": "0347b53e-a4ab-4f5c-812c-58ab19cfebd3"
      },
      "source": [
        "print(float('123.25')) #converter string para float\n",
        "print(str(123.25)) #converter float para string\n",
        "print(bool('')) #converter string vazia para boolean (false)"
      ],
      "execution_count": 5,
      "outputs": [
        {
          "output_type": "stream",
          "text": [
            "123.25\n",
            "123.25\n",
            "False\n"
          ],
          "name": "stdout"
        }
      ]
    },
    {
      "cell_type": "code",
      "metadata": {
        "colab": {
          "base_uri": "https://localhost:8080/"
        },
        "id": "swe-Z5RAkpqu",
        "outputId": "40a7feb1-8215-4377-ee21-b3b318a078f1"
      },
      "source": [
        "print(bool('abc')) #toda string vai ser true\n",
        "print(bool(0)) #zero sempre é false\n",
        "print(bool(-2)) #qualquer numero diferente de zero é true\n",
        "print(bool(60)) #qualquer numero diferente de zero é true"
      ],
      "execution_count": 6,
      "outputs": [
        {
          "output_type": "stream",
          "text": [
            "True\n",
            "False\n",
            "True\n",
            "True\n"
          ],
          "name": "stdout"
        }
      ]
    },
    {
      "cell_type": "markdown",
      "metadata": {
        "id": "jXO-lXSQnrMz"
      },
      "source": [
        "O objetivo é tentar prever qual é o montante que alguém pode economizar sabendo apenas seu salario e gasto mensal"
      ]
    },
    {
      "cell_type": "code",
      "metadata": {
        "colab": {
          "base_uri": "https://localhost:8080/"
        },
        "id": "on3zEscTn4hT",
        "outputId": "43fb5489-e3d2-4673-bf1c-8a38d701aa19"
      },
      "source": [
        "salario_mensal = input(\"Informe o seu salario mensal: \")\n",
        "salario_mensal = float(salario_mensal)\n",
        "\n",
        "gasto_mensal = input(\"Informe, em média, seu gasto mensal: \")\n",
        "gasto_mensal = float(gasto_mensal)\n",
        "\n",
        "salario_ano = salario_mensal * 12\n",
        "gasto_ano = gasto_mensal * 12\n",
        "\n",
        "montante = salario_ano - gasto_ano\n",
        "\n",
        "print(\"O montante que voce pode economizar ao fim do ano é de R$: \", montante)"
      ],
      "execution_count": 8,
      "outputs": [
        {
          "output_type": "stream",
          "text": [
            "Informe o seu salario mensal: 1105\n",
            "Informe, em média, seu gasto mensal: 800\n",
            "O montante que voce pode economizar ao fim do ano é de R$:  3660.0\n"
          ],
          "name": "stdout"
        }
      ]
    }
  ]
}