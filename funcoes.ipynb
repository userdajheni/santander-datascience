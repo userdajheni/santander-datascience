{
  "nbformat": 4,
  "nbformat_minor": 0,
  "metadata": {
    "colab": {
      "name": "funcoes.ipynb",
      "provenance": [],
      "authorship_tag": "ABX9TyPxG3NhRgntJE4ZcgKcbgaO",
      "include_colab_link": true
    },
    "kernelspec": {
      "name": "python3",
      "display_name": "Python 3"
    },
    "language_info": {
      "name": "python"
    }
  },
  "cells": [
    {
      "cell_type": "markdown",
      "metadata": {
        "id": "view-in-github",
        "colab_type": "text"
      },
      "source": [
        "<a href=\"https://colab.research.google.com/github/userdajheni/santander-datascience/blob/main/funcoes.ipynb\" target=\"_parent\"><img src=\"https://colab.research.google.com/assets/colab-badge.svg\" alt=\"Open In Colab\"/></a>"
      ]
    },
    {
      "cell_type": "markdown",
      "metadata": {
        "id": "DV39xfW22yF3"
      },
      "source": [
        "**Função** é uma sequencia de passos nomeado"
      ]
    },
    {
      "cell_type": "code",
      "metadata": {
        "colab": {
          "base_uri": "https://localhost:8080/"
        },
        "id": "Xv65R0Cl2Mmt",
        "outputId": "5fa9fc58-52e1-46df-febb-7f93ebf73e13"
      },
      "source": [
        "# Criar função\n",
        "def hello():\n",
        "  print(\"Ola Mundo!\")\n",
        "\n",
        "# Chamar função para ser executada\n",
        "hello()"
      ],
      "execution_count": 1,
      "outputs": [
        {
          "output_type": "stream",
          "text": [
            "Ola Mundo!\n"
          ],
          "name": "stdout"
        }
      ]
    },
    {
      "cell_type": "code",
      "metadata": {
        "colab": {
          "base_uri": "https://localhost:8080/"
        },
        "id": "ypBl9qKt4d7R",
        "outputId": "1e032923-1ae8-46ff-9a30-e7e4c2199979"
      },
      "source": [
        "# Cria uma função para calcular media \n",
        "def calcula_media(valor1, valor2, valor3):\n",
        "  soma = valor1 + valor2 + valor3\n",
        "  media = soma / 3\n",
        "  return media\n",
        "\n",
        "# Chamar a função passando os valores\n",
        "print(\"A média entre 10+86+99 é:\", calcula_media(10,86,99))\n",
        "\n",
        "print(\"\")\n",
        "print(\"\")\n",
        "\n",
        "# Chamar a função passando os valores\n",
        "print(\"A média de 9+10+9 é:\", calcula_media(valor1=9,valor2=10,valor3=9))"
      ],
      "execution_count": 6,
      "outputs": [
        {
          "output_type": "stream",
          "text": [
            "A média entre 10+86+99 é: 65.0\n",
            "\n",
            "\n",
            "A média de 9+10+9 é: 9.333333333333334\n"
          ],
          "name": "stdout"
        }
      ]
    },
    {
      "cell_type": "code",
      "metadata": {
        "colab": {
          "base_uri": "https://localhost:8080/"
        },
        "id": "dXI2TPM36ihK",
        "outputId": "224ae9e1-8fe5-4538-e884-09acda25f44b"
      },
      "source": [
        "def variaveis(*args):\n",
        "  print(args, type(args))\n",
        "\n",
        "variaveis('Amanda', 'Fernando', 'Pedro')\n",
        "variaveis(10, 20, 30)\n",
        "variaveis('Amanda', 35)\n"
      ],
      "execution_count": 10,
      "outputs": [
        {
          "output_type": "stream",
          "text": [
            "('Amanda', 'Fernando', 'Pedro') <class 'tuple'>\n",
            "(10, 20, 30) <class 'tuple'>\n",
            "('Amanda', 35) <class 'tuple'>\n"
          ],
          "name": "stdout"
        }
      ]
    },
    {
      "cell_type": "code",
      "metadata": {
        "colab": {
          "base_uri": "https://localhost:8080/"
        },
        "id": "pa1XS5Bm8Dtw",
        "outputId": "ece70e73-b57e-4e65-b910-936ce078e695"
      },
      "source": [
        "def nova_calculadora(*valores):\n",
        "  soma = sum(valores)\n",
        "  media = soma / len(valores)\n",
        "  return media\n",
        "\n",
        "nova_calculadora(10,8,9)"
      ],
      "execution_count": 11,
      "outputs": [
        {
          "output_type": "execute_result",
          "data": {
            "text/plain": [
              "9.0"
            ]
          },
          "metadata": {
            "tags": []
          },
          "execution_count": 11
        }
      ]
    },
    {
      "cell_type": "code",
      "metadata": {
        "colab": {
          "base_uri": "https://localhost:8080/"
        },
        "id": "QbMDLEXj9R5B",
        "outputId": "42449bb7-ddcc-4a4c-f5b5-e61bdd709aa5"
      },
      "source": [
        "def aluno(**aluno):\n",
        "  print(aluno, type(aluno))\n",
        "\n",
        "aluno(nome='Jheniffer', sobrenome='Daniely')"
      ],
      "execution_count": 15,
      "outputs": [
        {
          "output_type": "stream",
          "text": [
            "{'nome': 'Jheniffer', 'sobrenome': 'Daniely'} <class 'dict'>\n"
          ],
          "name": "stdout"
        }
      ]
    }
  ]
}