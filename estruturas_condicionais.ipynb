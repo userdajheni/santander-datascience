{
  "nbformat": 4,
  "nbformat_minor": 0,
  "metadata": {
    "colab": {
      "name": "estruturas_condicionais.ipynb",
      "provenance": [],
      "authorship_tag": "ABX9TyPctEbtZ8ugP4GZzCC2KTAu",
      "include_colab_link": true
    },
    "kernelspec": {
      "name": "python3",
      "display_name": "Python 3"
    },
    "language_info": {
      "name": "python"
    }
  },
  "cells": [
    {
      "cell_type": "markdown",
      "metadata": {
        "id": "view-in-github",
        "colab_type": "text"
      },
      "source": [
        "<a href=\"https://colab.research.google.com/github/userdajheni/santander-datascience/blob/main/estruturas_condicionais.ipynb\" target=\"_parent\"><img src=\"https://colab.research.google.com/assets/colab-badge.svg\" alt=\"Open In Colab\"/></a>"
      ]
    },
    {
      "cell_type": "markdown",
      "metadata": {
        "id": "tTfoC2ZFoZck"
      },
      "source": [
        "O IF testa uma condição:\n",
        "- Se ela for verdadeira, seu conteúdo é executado\n",
        "- Caso contrário, seu conteúdo é ignorado"
      ]
    },
    {
      "cell_type": "code",
      "metadata": {
        "colab": {
          "base_uri": "https://localhost:8080/"
        },
        "id": "y9OHWEJIrEwm",
        "outputId": "7c54aa44-0d90-4b44-9a73-792faeb615e7"
      },
      "source": [
        "idade = int(input(\"Digite sua idade: \"))\n",
        "if idade >= 12:\n",
        "  print(\"Voce pode entrar na montanha russa\")\n",
        "print(\"Obrigado por participar\")"
      ],
      "execution_count": null,
      "outputs": [
        {
          "output_type": "stream",
          "text": [
            "Digite sua idade: 18\n",
            "Voce pode entrar na montanha russa\n",
            "Obrigado por participar\n"
          ],
          "name": "stdout"
        }
      ]
    },
    {
      "cell_type": "code",
      "metadata": {
        "colab": {
          "base_uri": "https://localhost:8080/"
        },
        "id": "8XNPcUsDzU1U",
        "outputId": "2cb3acbd-42cf-4314-f06f-79af620978e1"
      },
      "source": [
        "idade = int(input(\"Digite sua idade: \"))\n",
        "altura = float(input(\"Digite sua altura: \"))\n",
        "\n",
        "if idade >= 12 and altura >= 1.60:\n",
        "  print(\"Voce pode entrar na montanha russa\")\n",
        "print(\"Obrigado por participar\")"
      ],
      "execution_count": null,
      "outputs": [
        {
          "output_type": "stream",
          "text": [
            "Digite sua idade: 10\n",
            "Digite sua altura: 1.60\n",
            "Obrigado por participar\n"
          ],
          "name": "stdout"
        }
      ]
    },
    {
      "cell_type": "code",
      "metadata": {
        "colab": {
          "base_uri": "https://localhost:8080/"
        },
        "id": "obKNxbgmz1re",
        "outputId": "c26056c0-d6ec-4c1e-fa71-150ec3c17adf"
      },
      "source": [
        "idade = int(input(\"Digite sua idade: \"))\n",
        "if idade >= 12:\n",
        "  resposta = input(\"Gostaria de entrar na montanha russa?\")\n",
        "  if (resposta == \"sim\"):\n",
        "    print(\"Pode entrar\")\n",
        "  else:\n",
        "      print(\"Ok então\")\n",
        "else:\n",
        "        print(\"Voce nao tem idade para este brinquedo\")"
      ],
      "execution_count": null,
      "outputs": [
        {
          "output_type": "stream",
          "text": [
            "Digite sua idade: 12\n",
            "Gostaria de entrar na montanha russa?nao\n",
            "Ok então\n"
          ],
          "name": "stdout"
        }
      ]
    },
    {
      "cell_type": "markdown",
      "metadata": {
        "id": "cPZNQDFbowHY"
      },
      "source": [
        "O ELSE não possui condição para verificar. O else sempre vem imediatamente após um if e é executado se o if for ignorado. O ELIF é contração de \"else if\", caso um if não seja executado, você pode propor uma nova condição para ser testada."
      ]
    },
    {
      "cell_type": "code",
      "metadata": {
        "colab": {
          "base_uri": "https://localhost:8080/"
        },
        "id": "bItPOSPJpOYn",
        "outputId": "5c5ac204-2c43-4faf-cc32-322877787ff0"
      },
      "source": [
        "exercicios = int(input(\"Quantos exercicios de python você ja fez? \"))\n",
        "\n",
        "if exercicios > 30:\n",
        "  print(\"Muito bem, já está ficando profissional!\")\n",
        "elif exercicios > 20:\n",
        "  print(\"Está indo bem, mas precisa de mais\")\n",
        "elif exercicios > 10:\n",
        "  print(\"Vamos tirar o atraso?\")\n",
        "else:\n",
        "  print(\"Xiiii....\")"
      ],
      "execution_count": 6,
      "outputs": [
        {
          "output_type": "stream",
          "text": [
            "Quantos exercicios de python você ja fez? 50\n",
            "Muito bem, já está ficando profissional!\n"
          ],
          "name": "stdout"
        }
      ]
    },
    {
      "cell_type": "code",
      "metadata": {
        "colab": {
          "base_uri": "https://localhost:8080/"
        },
        "id": "QAuDdMFNrtsp",
        "outputId": "42d8bab2-5fa9-48f4-ec9b-297e3c639d1c"
      },
      "source": [
        "valor_passagem = 4.30\n",
        "valor_corrida = input(\"Qual o valor da corrida? \")\n",
        "\n",
        "if float(valor_corrida) <= valor_passagem * 5:\n",
        "  print(\"Pegue o uber\")\n",
        "else:\n",
        "  print(\"Pegue o onibus\")"
      ],
      "execution_count": 10,
      "outputs": [
        {
          "output_type": "stream",
          "text": [
            "Qual o valor da corrida? 6\n",
            "Pegue o uber\n"
          ],
          "name": "stdout"
        }
      ]
    },
    {
      "cell_type": "code",
      "metadata": {
        "colab": {
          "base_uri": "https://localhost:8080/"
        },
        "id": "mKRuUrmXsm-w",
        "outputId": "19f372fb-6528-457d-f61a-f8e7490c20af"
      },
      "source": [
        "valor_passagem = 4.30\n",
        "valor_corrida = input(\"Qual o valor da corrida? \")\n",
        "\n",
        "if float(valor_corrida) <= valor_passagem * 5:\n",
        "  print(\"Pegue o uber\")\n",
        "elif float(valor_corrida) <= valor_passagem * 6:\n",
        "  print(\"Aguarde um momento, a corrida pode baixar o preço\")\n",
        "else:\n",
        "  print(\"Pegue o onibus\")"
      ],
      "execution_count": 15,
      "outputs": [
        {
          "output_type": "stream",
          "text": [
            "Qual o valor da corrida? 23\n",
            "Aguarde um momento, a corrida pode baixar o preço\n"
          ],
          "name": "stdout"
        }
      ]
    }
  ]
}