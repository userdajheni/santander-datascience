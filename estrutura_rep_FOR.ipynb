{
  "nbformat": 4,
  "nbformat_minor": 0,
  "metadata": {
    "colab": {
      "name": "estrutura_rep_FOR.ipynb",
      "provenance": [],
      "authorship_tag": "ABX9TyMgaIRb0A677Ihk2wULKFAO",
      "include_colab_link": true
    },
    "kernelspec": {
      "name": "python3",
      "display_name": "Python 3"
    },
    "language_info": {
      "name": "python"
    }
  },
  "cells": [
    {
      "cell_type": "markdown",
      "metadata": {
        "id": "view-in-github",
        "colab_type": "text"
      },
      "source": [
        "<a href=\"https://colab.research.google.com/github/userdajheni/santander-datascience/blob/main/estrutura_rep_FOR.ipynb\" target=\"_parent\"><img src=\"https://colab.research.google.com/assets/colab-badge.svg\" alt=\"Open In Colab\"/></a>"
      ]
    },
    {
      "cell_type": "markdown",
      "metadata": {
        "id": "dhe2XAZavkcP"
      },
      "source": [
        "O **FOR** é uma laço de repetição especializado em iterar sobre objetos. Iterar significa navegar por um objeto.\n",
        "\n",
        "Basicamente utilizaremos o for em dois momentos, 1: você tem um objeto e precisa navegar por cada um de seus elementos. 2: é quando você tem uma sequencia de tarefas que tem que ser repetido um numero pre defenido de vezes."
      ]
    },
    {
      "cell_type": "code",
      "metadata": {
        "colab": {
          "base_uri": "https://localhost:8080/"
        },
        "id": "84sa6I80vQUJ",
        "outputId": "28c21d60-a96a-465f-d7e0-650ea8705320"
      },
      "source": [
        "alunos = ['Amanda', 'Lyandra', 'Thayna', 'Alexandre', 'Ivan', 'Joao']\n",
        "for nome in alunos:\n",
        "  print(nome)"
      ],
      "execution_count": 1,
      "outputs": [
        {
          "output_type": "stream",
          "text": [
            "Amanda\n",
            "Lyandra\n",
            "Thayna\n",
            "Alexandre\n",
            "Ivan\n",
            "Joao\n"
          ],
          "name": "stdout"
        }
      ]
    },
    {
      "cell_type": "code",
      "metadata": {
        "colab": {
          "base_uri": "https://localhost:8080/"
        },
        "id": "EtfzXjelw9PW",
        "outputId": "ec215f48-36b0-4913-9d97-7cece41a3dc8"
      },
      "source": [
        "# Mesmo exemplo acima porém feito com while\n",
        "cont = 0 #indice de cada elemento da lista\n",
        "frutas = ['Banana', 'Ameixa', 'Amora', 'Carambola', 'Uva']\n",
        "\n",
        "while cont < len(frutas):\n",
        "  print(frutas[cont])\n",
        "  cont = cont + 1"
      ],
      "execution_count": 2,
      "outputs": [
        {
          "output_type": "stream",
          "text": [
            "Banana\n",
            "Ameixa\n",
            "Amora\n",
            "Carambola\n",
            "Uva\n"
          ],
          "name": "stdout"
        }
      ]
    },
    {
      "cell_type": "code",
      "metadata": {
        "colab": {
          "base_uri": "https://localhost:8080/"
        },
        "id": "bdsqD6-uxcSu",
        "outputId": "5d5609b2-2b8f-4342-c4fb-696670578d80"
      },
      "source": [
        "# Mesmo exemplo utilizando for em uma tupla\n",
        "jogadores = 'Gabriel', 'Neymar', 'Oscar', 'Davi', 'Ivan', 'Joao'\n",
        "for nome_jogador in jogadores:\n",
        "  print(nome_jogador)\n",
        "print(type(jogadores))"
      ],
      "execution_count": 5,
      "outputs": [
        {
          "output_type": "stream",
          "text": [
            "Gabriel\n",
            "Neymar\n",
            "Oscar\n",
            "Davi\n",
            "Ivan\n",
            "Joao\n",
            "<class 'tuple'>\n"
          ],
          "name": "stdout"
        }
      ]
    },
    {
      "cell_type": "code",
      "metadata": {
        "colab": {
          "base_uri": "https://localhost:8080/"
        },
        "id": "rzybB11hyLN0",
        "outputId": "0fe2505c-2127-410e-ac6a-c972d85d37ae"
      },
      "source": [
        "# Utilizando for com dicionario\n",
        "IBGE = {\n",
        "    'Pais' : 'Brasil',\n",
        "    'Estado' : 'São Paulo',\n",
        "    'Cidade' : 'Barueri',\n",
        "    'Populacao' : 18521\n",
        "}\n",
        "\n",
        "for chave in IBGE:\n",
        "  print(f'{chave}: {IBGE[chave]}')"
      ],
      "execution_count": 7,
      "outputs": [
        {
          "output_type": "stream",
          "text": [
            "Pais: Brasil\n",
            "Estado: São Paulo\n",
            "Cidade: Barueri\n",
            "Populacao: 18521\n"
          ],
          "name": "stdout"
        }
      ]
    },
    {
      "cell_type": "markdown",
      "metadata": {
        "id": "PC4eEZqYzYDe"
      },
      "source": [
        "A função **RANGE** cria um objeto como uma lista que contem elementos de zero até o limitante que passaremos para a função menos 1, ou seja, ela da exatamente os elementos que precisamos para referenciar cada uma das posições da lista se como limitante a gente passar o tamanho dessa lista  "
      ]
    },
    {
      "cell_type": "code",
      "metadata": {
        "colab": {
          "base_uri": "https://localhost:8080/"
        },
        "id": "hu3koqWAy5Gu",
        "outputId": "00060fe4-0bd1-47ce-c81a-01e231218be0"
      },
      "source": [
        "cidades = ['Barueri', 'Jandira', 'Carapicuiba', 'Osasco']\n",
        "for posicao in range(len(cidades)):\n",
        "  print(posicao)"
      ],
      "execution_count": 8,
      "outputs": [
        {
          "output_type": "stream",
          "text": [
            "0\n",
            "1\n",
            "2\n",
            "3\n"
          ],
          "name": "stdout"
        }
      ]
    },
    {
      "cell_type": "code",
      "metadata": {
        "colab": {
          "base_uri": "https://localhost:8080/"
        },
        "id": "B6G1hy9Z0lpQ",
        "outputId": "17358199-f193-449e-b453-2914a7a3c9a6"
      },
      "source": [
        "# Alterar todos os elementos para itapevi\n",
        "cidades = ['Barueri', 'Jandira', 'Carapicuiba', 'Osasco']\n",
        "for posicao in range(len(cidades)):\n",
        "  cidades[posicao] = 'Itapevi'\n",
        "print(cidades)"
      ],
      "execution_count": 10,
      "outputs": [
        {
          "output_type": "stream",
          "text": [
            "['Itapevi', 'Itapevi', 'Itapevi', 'Itapevi']\n"
          ],
          "name": "stdout"
        }
      ]
    },
    {
      "cell_type": "code",
      "metadata": {
        "colab": {
          "base_uri": "https://localhost:8080/"
        },
        "id": "Mlp_uNaP1Ikt",
        "outputId": "3054b6de-7340-492b-8775-f13f291f963c"
      },
      "source": [
        "print(list(range(10))) #Cria uma lista de zero até nove\n",
        "print(list(range(2,10))) #Cria uma lista de dois até nove\n",
        "print(list(range(2,10,2))) #cria uma lista de dois até nove, pulando de dois em dois"
      ],
      "execution_count": 11,
      "outputs": [
        {
          "output_type": "stream",
          "text": [
            "[0, 1, 2, 3, 4, 5, 6, 7, 8, 9]\n",
            "[2, 3, 4, 5, 6, 7, 8, 9]\n",
            "[2, 4, 6, 8]\n"
          ],
          "name": "stdout"
        }
      ]
    }
  ]
}