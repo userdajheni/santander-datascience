{
  "nbformat": 4,
  "nbformat_minor": 0,
  "metadata": {
    "colab": {
      "name": "listas_tuplas.ipynb",
      "provenance": [],
      "authorship_tag": "ABX9TyPvI/SPBEM2NC2kADcD47r5",
      "include_colab_link": true
    },
    "kernelspec": {
      "name": "python3",
      "display_name": "Python 3"
    },
    "language_info": {
      "name": "python"
    }
  },
  "cells": [
    {
      "cell_type": "markdown",
      "metadata": {
        "id": "view-in-github",
        "colab_type": "text"
      },
      "source": [
        "<a href=\"https://colab.research.google.com/github/userdajheni/santander-datascience/blob/main/listas_tuplas.ipynb\" target=\"_parent\"><img src=\"https://colab.research.google.com/assets/colab-badge.svg\" alt=\"Open In Colab\"/></a>"
      ]
    },
    {
      "cell_type": "markdown",
      "metadata": {
        "id": "_QlPdL9y1rf4"
      },
      "source": [
        "Listas são coleções de objetos em python. Ao invés de declarar uma variável para cada valor que gostariamos de armazenar, podemos criar uma lista para armazenar vários valores."
      ]
    },
    {
      "cell_type": "code",
      "metadata": {
        "colab": {
          "base_uri": "https://localhost:8080/"
        },
        "id": "HBv2zg9516i3",
        "outputId": "562c419f-d605-4c1f-bf35-713e33415ea8"
      },
      "source": [
        "listavazia = []\n",
        "print(listavazia)"
      ],
      "execution_count": null,
      "outputs": [
        {
          "output_type": "stream",
          "text": [
            "[]\n"
          ],
          "name": "stdout"
        }
      ]
    },
    {
      "cell_type": "code",
      "metadata": {
        "colab": {
          "base_uri": "https://localhost:8080/"
        },
        "id": "y3ZbGwMP2Chc",
        "outputId": "ff0ed3d4-20a7-4b1e-8fbb-9a7c937b1706"
      },
      "source": [
        "numeros = [1,3,7,0,100]\n",
        "print(\"Lista de numeros: \", numeros)"
      ],
      "execution_count": null,
      "outputs": [
        {
          "output_type": "stream",
          "text": [
            "Lista de numeros:  [1, 3, 7, 0, 100]\n"
          ],
          "name": "stdout"
        }
      ]
    },
    {
      "cell_type": "code",
      "metadata": {
        "colab": {
          "base_uri": "https://localhost:8080/"
        },
        "id": "zPAmA_Dk2McV",
        "outputId": "b54a2ec3-9c19-463a-9c90-4af859d65c82"
      },
      "source": [
        "lista_mista = [14, \"lets Code\", 0.1, True]\n",
        "print(\"Lista mista: \", lista_mista)"
      ],
      "execution_count": null,
      "outputs": [
        {
          "output_type": "stream",
          "text": [
            "Lista mista:  [14, 'lets Code', 0.1, True]\n"
          ],
          "name": "stdout"
        }
      ]
    },
    {
      "cell_type": "markdown",
      "metadata": {
        "id": "czrSts-k2YMm"
      },
      "source": [
        "Acessamos cada elemento da lista através de um indice entre colchetes. Os indices começam em 0 (zero)"
      ]
    },
    {
      "cell_type": "code",
      "metadata": {
        "colab": {
          "base_uri": "https://localhost:8080/"
        },
        "id": "u6uOY_C52gSj",
        "outputId": "dc58d72b-6c82-4bb3-ada9-aacf15668f80"
      },
      "source": [
        "numeros = [1,3,7,0,100]\n",
        "print(\"Elemento no indice zero: \", numeros[0])\n",
        "print(\"Elemento no indice dois: \", numeros[2])\n",
        "print(\"Elemento no indice quatro: \", numeros[4])"
      ],
      "execution_count": null,
      "outputs": [
        {
          "output_type": "stream",
          "text": [
            "Elemento no indice zero:  1\n",
            "Elemento no indice dois:  7\n",
            "Elemento no indice quatro:  100\n"
          ],
          "name": "stdout"
        }
      ]
    },
    {
      "cell_type": "markdown",
      "metadata": {
        "id": "eT-ukuP83Kqb"
      },
      "source": [
        "Também podemos alterar o valor dos elementos de uma lista:"
      ]
    },
    {
      "cell_type": "code",
      "metadata": {
        "colab": {
          "base_uri": "https://localhost:8080/"
        },
        "id": "RtYRPuZ-3OZG",
        "outputId": "eaac4e8a-40c3-4794-fef2-ad881d172021"
      },
      "source": [
        "numeros = [1,3,7,0,100]\n",
        "print(numeros[2])\n",
        "\n",
        "numeros[2] = 5\n",
        "print(numeros[2])"
      ],
      "execution_count": null,
      "outputs": [
        {
          "output_type": "stream",
          "text": [
            "7\n",
            "5\n"
          ],
          "name": "stdout"
        }
      ]
    },
    {
      "cell_type": "markdown",
      "metadata": {
        "id": "rMfZ39Fk3fym"
      },
      "source": [
        "Um jeito inteligente de trabalhar com listas é utilizando loops"
      ]
    },
    {
      "cell_type": "code",
      "metadata": {
        "colab": {
          "base_uri": "https://localhost:8080/"
        },
        "id": "FVnFB3J93j9f",
        "outputId": "dd0a6f6c-4935-41b4-b37d-200d503ccdf3"
      },
      "source": [
        "numeros = [1,3,7,0,100, -4, 0, 65, 754, 2, 8755, 55]\n",
        "\n",
        "indice = 0\n",
        "while indice < 8:\n",
        "  print(numeros[indice])\n",
        "  indice = indice + 1"
      ],
      "execution_count": null,
      "outputs": [
        {
          "output_type": "stream",
          "text": [
            "1\n",
            "3\n",
            "7\n",
            "0\n",
            "100\n",
            "-4\n",
            "0\n",
            "65\n"
          ],
          "name": "stdout"
        }
      ]
    },
    {
      "cell_type": "code",
      "metadata": {
        "colab": {
          "base_uri": "https://localhost:8080/"
        },
        "id": "18nWINa341NL",
        "outputId": "6a742906-30e0-435d-c960-a88d43f3d00f"
      },
      "source": [
        "frutas = [\"Pera\", \"uva\", \"maçã\", \"limão\", \"laranja\", \"carambola\", \"banana\", \"manga\", \"melancia\"]\n",
        "indice = 0\n",
        "\n",
        "while indice < len(frutas):\n",
        "  print(frutas[indice])\n",
        "  indice = indice + 1"
      ],
      "execution_count": null,
      "outputs": [
        {
          "output_type": "stream",
          "text": [
            "Pera\n",
            "uva\n",
            "maçã\n",
            "limão\n",
            "laranja\n",
            "carambola\n",
            "banana\n",
            "manga\n",
            "melancia\n"
          ],
          "name": "stdout"
        }
      ]
    },
    {
      "cell_type": "markdown",
      "metadata": {
        "id": "PutZMiWF8SMB"
      },
      "source": [
        "A função **len()** calcula o comprimento da lista"
      ]
    },
    {
      "cell_type": "code",
      "metadata": {
        "colab": {
          "base_uri": "https://localhost:8080/"
        },
        "id": "psNaHo-R5XCL",
        "outputId": "fce970bc-fb72-44bf-a4fc-76b8eb061bf6"
      },
      "source": [
        "frutas = [\"Pera\", \"uva\", \"maçã\", \"limão\", \"laranja\", \"carambola\", \"banana\", \"manga\", \"melancia\"]\n",
        "indice = 5\n",
        "\n",
        "while indice < len(frutas):\n",
        "  print(frutas[indice])\n",
        "  indice = indice + 1"
      ],
      "execution_count": null,
      "outputs": [
        {
          "output_type": "stream",
          "text": [
            "carambola\n",
            "banana\n",
            "manga\n",
            "melancia\n"
          ],
          "name": "stdout"
        }
      ]
    },
    {
      "cell_type": "markdown",
      "metadata": {
        "id": "7-caKRcW8eA4"
      },
      "source": [
        "A função **append()** coloca um elemento novo ao final da lista:"
      ]
    },
    {
      "cell_type": "code",
      "metadata": {
        "colab": {
          "base_uri": "https://localhost:8080/"
        },
        "id": "AEpcaPKQ6Yd1",
        "outputId": "88fe729b-76b4-4548-acb9-ede0e01db39b"
      },
      "source": [
        "lista_animais = []\n",
        "resposta = \"sim\"\n",
        "\n",
        "while resposta == \"sim\":\n",
        "  resposta = input(\"Deseja adicionar um animal a lista? \")\n",
        "  if resposta == \"sim\":\n",
        "    animal = input(\"Digite o nome do animal: \")\n",
        "    lista_animais.append(animal)\n",
        "print(lista_animais)"
      ],
      "execution_count": null,
      "outputs": [
        {
          "output_type": "stream",
          "text": [
            "Deseja adicionar um animal a lista? sim\n",
            "Digite o nome do animal: leão\n",
            "Deseja adicionar um animal a lista? sim\n",
            "Digite o nome do animal: macaco\n",
            "Deseja adicionar um animal a lista? sim\n",
            "Digite o nome do animal: baleia\n",
            "Deseja adicionar um animal a lista? nao\n",
            "['leão', 'macaco', 'baleia']\n"
          ],
          "name": "stdout"
        }
      ]
    },
    {
      "cell_type": "markdown",
      "metadata": {
        "id": "EY0MINPi8mre"
      },
      "source": [
        "A função **.remove()** deleta um elemento da lista:"
      ]
    },
    {
      "cell_type": "code",
      "metadata": {
        "colab": {
          "base_uri": "https://localhost:8080/"
        },
        "id": "sNgLm8jg7kt6",
        "outputId": "13a92d6e-8f1f-461f-c4cc-dce8a63cdc9f"
      },
      "source": [
        "animal = input(\"Qual animal deseja remover? \")\n",
        "lista_animais.remove(animal)\n",
        "print(lista_animais)"
      ],
      "execution_count": null,
      "outputs": [
        {
          "output_type": "stream",
          "text": [
            "Qual animal deseja remover? leão\n",
            "['macaco', 'baleia']\n"
          ],
          "name": "stdout"
        }
      ]
    },
    {
      "cell_type": "markdown",
      "metadata": {
        "id": "9W7HjwGr8uiv"
      },
      "source": [
        "A função **count()** conta quantas vezes um elemento aparece na lista"
      ]
    },
    {
      "cell_type": "code",
      "metadata": {
        "colab": {
          "base_uri": "https://localhost:8080/"
        },
        "id": "TeTQ3VD79QIf",
        "outputId": "fff60e4c-0fd9-4ae3-ab0b-1cf6a597d7e9"
      },
      "source": [
        "jogadores = [\"Ronaldo\", \"Murilo\", \"Marcelo\", \"Neymar\", \"Ronaldos\", \"Ronaldo\", \"Ronaldo Junior\"]\n",
        "quantidade = jogadores.count(\"Ronaldo\")\n",
        "\n",
        "print(\"Os jogadores são: \", jogadores)\n",
        "print(\"Quantidade de vezes que RONALDO aparece: \", quantidade)"
      ],
      "execution_count": null,
      "outputs": [
        {
          "output_type": "stream",
          "text": [
            "Os jogadores são:  ['Ronaldo', 'Murilo', 'Marcelo', 'Neymar', 'Ronaldos', 'Ronaldo', 'Ronaldo Junior']\n",
            "Quantidade de vezes que RONALDO aparece:  2\n"
          ],
          "name": "stdout"
        }
      ]
    },
    {
      "cell_type": "markdown",
      "metadata": {
        "id": "gcaE5mCH_5rj"
      },
      "source": [
        "A função **index()** busca um elemento e fala em qual posição ele aparece"
      ]
    },
    {
      "cell_type": "code",
      "metadata": {
        "colab": {
          "base_uri": "https://localhost:8080/"
        },
        "id": "zNk1BPcuAB2s",
        "outputId": "9fe3145c-5dfc-467f-ebf1-aad7716862ab"
      },
      "source": [
        "jogadores = [\"Ronaldo\", \"Murilo\", \"Marcelo\", \"Neymar\", \"Ronaldos\", \"Ronaldo\", \"Ronaldo Junior\", \"Rivaldo\", \"Gabriel\", \"Marcos\"]\n",
        "procurar_elemento = jogadores.index(\"Rivaldo\")\n",
        "print(\"Rivaldo está na posição: \", procurar_elemento)"
      ],
      "execution_count": null,
      "outputs": [
        {
          "output_type": "stream",
          "text": [
            "Rivaldo está na posição:  7\n"
          ],
          "name": "stdout"
        }
      ]
    },
    {
      "cell_type": "markdown",
      "metadata": {
        "id": "SFwaBdQgAtOD"
      },
      "source": [
        "A função **sort()** ordena a lista em ordem alfabetica"
      ]
    },
    {
      "cell_type": "code",
      "metadata": {
        "colab": {
          "base_uri": "https://localhost:8080/"
        },
        "id": "y__8IXPeBQGw",
        "outputId": "57f5a37d-e380-4bab-caaa-913250532500"
      },
      "source": [
        "frutas = [\"maçã\", \"pêra\", \"uva\", \"amora\", \"limão\", \"banana\"]\n",
        "frutas.sort()\n",
        "print(\"Lista frutas em ordem alfabetica: \", frutas)"
      ],
      "execution_count": null,
      "outputs": [
        {
          "output_type": "stream",
          "text": [
            "Lista frutas em ordem alfabetica:  ['amora', 'banana', 'limão', 'maçã', 'pêra', 'uva']\n"
          ],
          "name": "stdout"
        }
      ]
    },
    {
      "cell_type": "markdown",
      "metadata": {
        "id": "18IvHU8HCHjT"
      },
      "source": [
        "As funções **max()** e **min()** obtém, respectivamente, o maior e o menor valor"
      ]
    },
    {
      "cell_type": "code",
      "metadata": {
        "colab": {
          "base_uri": "https://localhost:8080/"
        },
        "id": "7jqT63SgCOy3",
        "outputId": "b9380724-12bc-4ff6-d8ec-78548159c190"
      },
      "source": [
        "digitos = [3,4,1,5,9,2,6,5]\n",
        "maior = max(digitos)\n",
        "menor = min(digitos)\n",
        "\n",
        "print(digitos)\n",
        "print(\"O maior valor é \", maior, \" e o menor valor é \", menor)"
      ],
      "execution_count": null,
      "outputs": [
        {
          "output_type": "stream",
          "text": [
            "[3, 4, 1, 5, 9, 2, 6, 5]\n",
            "O maior valor é  9  e o menor valor é  1\n"
          ],
          "name": "stdout"
        }
      ]
    },
    {
      "cell_type": "markdown",
      "metadata": {
        "id": "OrOvLyj5EmkJ"
      },
      "source": [
        "Uma **tupla** é uma coleção de objetos que lembra muito as listas. Ao invés de colchetes [] usamos parenteses () para declarar as tuplas (ou sem parenteses também).\n",
        "\n",
        "Para acessar um valoor, utilizamos a mesma sintaxe das listas, porém, as **tuplas são imutaveis**: não é possivel adicionar ou modificar valores."
      ]
    },
    {
      "cell_type": "code",
      "metadata": {
        "colab": {
          "base_uri": "https://localhost:8080/"
        },
        "id": "mcs_c0kFFFNY",
        "outputId": "1744213e-b337-4d28-9261-849b64373293"
      },
      "source": [
        "numeros = (1, 2, 3, 4, 5, 100)\n",
        "objetos = \"garfo\", \"faca\", \"cadeira\", \"controle remoto\"\n",
        "\n",
        "print(\"Isto é uma tupla:\",numeros)\n",
        "print(\"Isto é outra tupla:\",objetos)"
      ],
      "execution_count": null,
      "outputs": [
        {
          "output_type": "stream",
          "text": [
            "Isto é uma tupla: (1, 2, 3, 4, 5, 100)\n",
            "Isto é outra tupla: ('garfo', 'faca', 'cadeira', 'controle remoto')\n"
          ],
          "name": "stdout"
        }
      ]
    },
    {
      "cell_type": "code",
      "metadata": {
        "colab": {
          "base_uri": "https://localhost:8080/"
        },
        "id": "BpbDXHmCFa2H",
        "outputId": "547dcd6d-1e23-4500-ec12-ae48d7ccadb3"
      },
      "source": [
        "print(\"Item da posição 4 da tupla numeros:\",numeros[4])\n",
        "print(type(numeros))"
      ],
      "execution_count": null,
      "outputs": [
        {
          "output_type": "stream",
          "text": [
            "Item da posição 4 da tupla numeros: 5\n",
            "<class 'tuple'>\n"
          ],
          "name": "stdout"
        }
      ]
    },
    {
      "cell_type": "markdown",
      "metadata": {
        "id": "C9Ed11odF4Y8"
      },
      "source": [
        "Podemos gerar uma tupla a partir de uma lista e vice e versa:"
      ]
    },
    {
      "cell_type": "code",
      "metadata": {
        "colab": {
          "base_uri": "https://localhost:8080/"
        },
        "id": "usAdGcAcF8nT",
        "outputId": "0a71f30c-ff8d-4f68-badc-b6a314fbdd6e"
      },
      "source": [
        "lista1 = [3, 4, 1, 5, 1, 100, 2]\n",
        "tupla1 = tuple(lista1)\n",
        "print(\"Esta e uma tupla a partir de uma lista:\", tupla1)\n",
        "\n",
        "tupla2 = \"amora\", 4, 100, \"pão\"\n",
        "lista2 = list(tupla2)\n",
        "print(\"Esta é uma lista a partir de uma tupla:\", lista2)"
      ],
      "execution_count": null,
      "outputs": [
        {
          "output_type": "stream",
          "text": [
            "Esta e uma tupla a partir de uma lista: (3, 4, 1, 5, 1, 100, 2)\n",
            "Esta é uma lista a partir de uma tupla: ['amora', 4, 100, 'pão']\n"
          ],
          "name": "stdout"
        }
      ]
    },
    {
      "cell_type": "markdown",
      "metadata": {
        "id": "wC3f6OO8N1OX"
      },
      "source": [
        "Outros exemplos"
      ]
    },
    {
      "cell_type": "code",
      "metadata": {
        "colab": {
          "base_uri": "https://localhost:8080/"
        },
        "id": "IYyAepYIN80v",
        "outputId": "8c9cbe86-18a0-4754-8141-3cf5a1c2b4e5"
      },
      "source": [
        "nome_paises = [\"Brasil\", \"Argentina\", \"China\", \"Canadá\", \"japão\"]\n",
        "print(nome_paises)\n",
        "print(\"Tamanho da lista: \", len(nome_paises))"
      ],
      "execution_count": 1,
      "outputs": [
        {
          "output_type": "stream",
          "text": [
            "['Brasil', 'Argentina', 'China', 'Canadá', 'japão']\n",
            "Tamanho da lista:  5\n"
          ],
          "name": "stdout"
        }
      ]
    },
    {
      "cell_type": "code",
      "metadata": {
        "colab": {
          "base_uri": "https://localhost:8080/"
        },
        "id": "AK6qcffrOSgg",
        "outputId": "00646935-a0b6-476b-be90-7bafdd3c08f6"
      },
      "source": [
        "print(\"País na posição 3: \", nome_paises[3])"
      ],
      "execution_count": 2,
      "outputs": [
        {
          "output_type": "stream",
          "text": [
            "País na posição 3:  Canadá\n"
          ],
          "name": "stdout"
        }
      ]
    },
    {
      "cell_type": "code",
      "metadata": {
        "colab": {
          "base_uri": "https://localhost:8080/"
        },
        "id": "-mHnTJG8OiTZ",
        "outputId": "eb5332df-b451-446c-8a45-92385936c73f"
      },
      "source": [
        "# indices negativos acessam de tras para frente, exemplo\n",
        "print(\"País na posição 0: \", nome_paises[0])\n",
        "print(\"País na posição 1: \", nome_paises[1])\n",
        "print(\"País na posição 2: \", nome_paises[2])\n",
        "print(\"País na posição 3: \", nome_paises[3])\n",
        "print(\"País na posição 4: \", nome_paises[4])\n",
        "print(\"\")\n",
        "\n",
        "# Fazendo o mesmo com indice negativo:\n",
        "print(\"País na posição -1: \", nome_paises[-1])\n",
        "print(\"País na posição -2: \", nome_paises[-2])\n",
        "print(\"País na posição -3: \", nome_paises[-3])\n",
        "print(\"País na posição -4: \", nome_paises[-4])\n",
        "print(\"País na posição -5: \", nome_paises[-5])"
      ],
      "execution_count": 7,
      "outputs": [
        {
          "output_type": "stream",
          "text": [
            "País na posição 0:  Brasil\n",
            "País na posição 1:  Argentina\n",
            "País na posição 2:  China\n",
            "País na posição 3:  Canadá\n",
            "País na posição 4:  japão\n",
            "\n",
            "País na posição -1:  japão\n",
            "País na posição -2:  Canadá\n",
            "País na posição -3:  China\n",
            "País na posição -4:  Argentina\n",
            "País na posição -5:  Brasil\n"
          ],
          "name": "stdout"
        }
      ]
    },
    {
      "cell_type": "code",
      "metadata": {
        "colab": {
          "base_uri": "https://localhost:8080/"
        },
        "id": "f8UrkkNxPynn",
        "outputId": "39d2e2aa-c618-4646-87f0-0688fa784dd2"
      },
      "source": [
        "# Acessar mais de um elemento da lista por vez\n",
        "print(nome_paises[1:3]) #pega o elemento um até o dois, pois o 3 não entra\n",
        "print(nome_paises[1:-1])\n",
        "print(nome_paises[2:]) #vai do indice dois ate o final\n",
        "print(nome_paises[:4]) #vai do inicio ate o indice 4"
      ],
      "execution_count": 14,
      "outputs": [
        {
          "output_type": "stream",
          "text": [
            "['Argentina', 'China']\n",
            "['Argentina', 'China', 'Canadá']\n",
            "['China', 'Canadá', 'japão']\n",
            "['Brasil', 'Argentina', 'China', 'Canadá']\n"
          ],
          "name": "stdout"
        }
      ]
    },
    {
      "cell_type": "code",
      "metadata": {
        "colab": {
          "base_uri": "https://localhost:8080/"
        },
        "id": "sKsUI0kXO0hJ",
        "outputId": "86831a5f-6848-4047-a693-408be51c325e"
      },
      "source": [
        "print(nome_paises[::2]) #pula de dois em dois\n",
        "print(nome_paises[::-1]) #inverter lista"
      ],
      "execution_count": 16,
      "outputs": [
        {
          "output_type": "stream",
          "text": [
            "['Brasil', 'China', 'japão']\n",
            "['japão', 'Canadá', 'China', 'Argentina', 'Brasil']\n"
          ],
          "name": "stdout"
        }
      ]
    },
    {
      "cell_type": "code",
      "metadata": {
        "colab": {
          "base_uri": "https://localhost:8080/"
        },
        "id": "dB072IbpVc-0",
        "outputId": "fdc07375-de19-4f4f-9754-2a0e4b1a7538"
      },
      "source": [
        "# Checar se existe o elemento na lista\n",
        "print(\"Brasil\" in nome_paises) #Brasil esta na lista?"
      ],
      "execution_count": 17,
      "outputs": [
        {
          "output_type": "stream",
          "text": [
            "True\n"
          ],
          "name": "stdout"
        }
      ]
    },
    {
      "cell_type": "code",
      "metadata": {
        "colab": {
          "base_uri": "https://localhost:8080/"
        },
        "id": "GAfESec7Vpet",
        "outputId": "5d5fc2c4-d91e-4a55-a5b5-052ebb3f915e"
      },
      "source": [
        "print(\"Canadá\" not in nome_paises)"
      ],
      "execution_count": 19,
      "outputs": [
        {
          "output_type": "stream",
          "text": [
            "False\n"
          ],
          "name": "stdout"
        }
      ]
    },
    {
      "cell_type": "code",
      "metadata": {
        "colab": {
          "base_uri": "https://localhost:8080/"
        },
        "id": "z4f8VEqzVvAP",
        "outputId": "9c546c6e-ab6c-49f8-ac20-a56653fe3e18"
      },
      "source": [
        "lista_capitais = [] #lista vazia\n",
        "lista_capitais.append(\"Brasilia\") #adiciona ao final da lista\n",
        "lista_capitais.append(\"Buenos Aires\")\n",
        "lista_capitais.append(\"Pequim\")\n",
        "lista_capitais.append(\"Bogota\")\n",
        "print(lista_capitais)"
      ],
      "execution_count": 21,
      "outputs": [
        {
          "output_type": "stream",
          "text": [
            "['Brasilia', 'Buenos Aires', 'Pequim', 'Bogota']\n"
          ],
          "name": "stdout"
        }
      ]
    },
    {
      "cell_type": "code",
      "metadata": {
        "colab": {
          "base_uri": "https://localhost:8080/"
        },
        "id": "NTN1ZRhpWb3X",
        "outputId": "6cc7ab38-84ad-4567-f418-6a74cdaae502"
      },
      "source": [
        "lista_capitais.insert(2, \"Paris\") #Insere paris na posição dois\n",
        "print(lista_capitais)"
      ],
      "execution_count": 22,
      "outputs": [
        {
          "output_type": "stream",
          "text": [
            "['Brasilia', 'Buenos Aires', 'Paris', 'Pequim', 'Bogota']\n"
          ],
          "name": "stdout"
        }
      ]
    },
    {
      "cell_type": "code",
      "metadata": {
        "colab": {
          "base_uri": "https://localhost:8080/"
        },
        "id": "-krlDn4VWj19",
        "outputId": "3e21e9ee-339a-46d6-fe2c-07dcdae30a25"
      },
      "source": [
        "lista_capitais.remove(\"Pequim\") #remove da lista\n",
        "print(lista_capitais)"
      ],
      "execution_count": 23,
      "outputs": [
        {
          "output_type": "stream",
          "text": [
            "['Brasilia', 'Buenos Aires', 'Paris', 'Bogota']\n"
          ],
          "name": "stdout"
        }
      ]
    },
    {
      "cell_type": "code",
      "metadata": {
        "colab": {
          "base_uri": "https://localhost:8080/"
        },
        "id": "0lHotTqHWrU8",
        "outputId": "9a8c5e55-4629-41f3-de9e-cce39cdf3770"
      },
      "source": [
        "lista_capitais.pop(0) # deleta um elemento da lista a partir da sua posição\n",
        "print(lista_capitais)"
      ],
      "execution_count": 24,
      "outputs": [
        {
          "output_type": "stream",
          "text": [
            "['Buenos Aires', 'Paris', 'Bogota']\n"
          ],
          "name": "stdout"
        }
      ]
    },
    {
      "cell_type": "code",
      "metadata": {
        "colab": {
          "base_uri": "https://localhost:8080/"
        },
        "id": "XMmsSJenWvPl",
        "outputId": "35351d28-6b01-4ab2-b486-c591801867cc"
      },
      "source": [
        "nomes_cidades = (\"Barueri\", \"Carapicuiba\", \"Osasco\", \"Jandira\", \"Itapevi\")\n",
        "tupla_aleatoria = \"Barueri\", 22, 3.14, True, False, \"Banana\"\n",
        "\n",
        "print(type(nomes_cidades))\n",
        "print(type(tupla_aleatoria))"
      ],
      "execution_count": 28,
      "outputs": [
        {
          "output_type": "stream",
          "text": [
            "<class 'tuple'>\n",
            "<class 'tuple'>\n"
          ],
          "name": "stdout"
        }
      ]
    },
    {
      "cell_type": "code",
      "metadata": {
        "colab": {
          "base_uri": "https://localhost:8080/"
        },
        "id": "sZoIbvMCXw3W",
        "outputId": "6a59ec46-49e5-49a4-82f6-a839cfb07371"
      },
      "source": [
        "len(nomes_cidades)"
      ],
      "execution_count": 30,
      "outputs": [
        {
          "output_type": "execute_result",
          "data": {
            "text/plain": [
              "5"
            ]
          },
          "metadata": {
            "tags": []
          },
          "execution_count": 30
        }
      ]
    },
    {
      "cell_type": "code",
      "metadata": {
        "colab": {
          "base_uri": "https://localhost:8080/"
        },
        "id": "C3gLdA6DYCMd",
        "outputId": "b24e0f52-059e-445b-c9bb-1d88ceb44a26"
      },
      "source": [
        "len(tupla_aleatoria)"
      ],
      "execution_count": 31,
      "outputs": [
        {
          "output_type": "execute_result",
          "data": {
            "text/plain": [
              "6"
            ]
          },
          "metadata": {
            "tags": []
          },
          "execution_count": 31
        }
      ]
    },
    {
      "cell_type": "code",
      "metadata": {
        "colab": {
          "base_uri": "https://localhost:8080/"
        },
        "id": "4294J0J4Y4gJ",
        "outputId": "034779a3-c35c-46b6-9996-32ab5516243e"
      },
      "source": [
        "tupla_mista = \"Banana\", \"Celular\", 2021, True\n",
        "fruta, objeto, ano, tem_cafe = tupla_mista\n",
        "print(\"Fruta: \",fruta)\n",
        "print(\"Objeto: \",objeto)\n",
        "print(\"Ano: \",ano)\n",
        "print(\"Tem cafe? \",tem_cafe)"
      ],
      "execution_count": 32,
      "outputs": [
        {
          "output_type": "stream",
          "text": [
            "Fruta:  Banana\n",
            "Objeto:  Celular\n",
            "Ano:  2021\n",
            "Tem cafe?  True\n"
          ],
          "name": "stdout"
        }
      ]
    }
  ]
}