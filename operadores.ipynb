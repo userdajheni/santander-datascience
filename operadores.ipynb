{
  "nbformat": 4,
  "nbformat_minor": 0,
  "metadata": {
    "colab": {
      "name": "operadores.ipynb",
      "provenance": [],
      "authorship_tag": "ABX9TyPh49H1IvFBABRbDV5m9ZP/",
      "include_colab_link": true
    },
    "kernelspec": {
      "name": "python3",
      "display_name": "Python 3"
    },
    "language_info": {
      "name": "python"
    }
  },
  "cells": [
    {
      "cell_type": "markdown",
      "metadata": {
        "id": "view-in-github",
        "colab_type": "text"
      },
      "source": [
        "<a href=\"https://colab.research.google.com/github/userdajheni/santander-datascience/blob/main/operadores.ipynb\" target=\"_parent\"><img src=\"https://colab.research.google.com/assets/colab-badge.svg\" alt=\"Open In Colab\"/></a>"
      ]
    },
    {
      "cell_type": "code",
      "metadata": {
        "colab": {
          "base_uri": "https://localhost:8080/"
        },
        "id": "Gqkl6UhrxUzo",
        "outputId": "3592ae9a-313d-4f7f-8276-dea25763a121"
      },
      "source": [
        "a = 2+3 #soma\n",
        "b = 2-3 #subtração\n",
        "c = 2*3 #multiplicação\n",
        "d = 2/3 #divisão\n",
        "\n",
        "print(a, \"resultado da soma\")\n",
        "print(b, \"resultado da subtração\")\n",
        "print(c, \"resultado da multiplicação\")\n",
        "print(d, \"resultado da divisão\")"
      ],
      "execution_count": 1,
      "outputs": [
        {
          "output_type": "stream",
          "text": [
            "5\n",
            "-1\n",
            "6\n",
            "0.6666666666666666\n"
          ],
          "name": "stdout"
        }
      ]
    },
    {
      "cell_type": "code",
      "metadata": {
        "colab": {
          "base_uri": "https://localhost:8080/"
        },
        "id": "HTcVoW-rx1wS",
        "outputId": "a7340496-bbdf-491a-bec2-9ad7e82ada19"
      },
      "source": [
        "e = 2//3 #divisão inteira\n",
        "f = 2**3 #potência\n",
        "g = 2%3 #resto da divisão\n",
        "\n",
        "\n",
        "print(e, \"resultado da divisão inteira\")\n",
        "print(f, \"resultado da potência\")\n",
        "print(g, \"resultado do resto da divisão\")"
      ],
      "execution_count": 2,
      "outputs": [
        {
          "output_type": "stream",
          "text": [
            "0 resultado da divisão inteira\n",
            "8 resultado da potência\n",
            "2 resultado do resto da divisão\n"
          ],
          "name": "stdout"
        }
      ]
    },
    {
      "cell_type": "code",
      "metadata": {
        "colab": {
          "base_uri": "https://localhost:8080/"
        },
        "id": "09N3_Rr9yK1k",
        "outputId": "43034a8d-1c53-42a0-8021-34f6ff17ed14"
      },
      "source": [
        "tem_pao = True\n",
        "tem_cafe = False\n",
        "\n",
        "print(not tem_cafe)\n",
        "print(tem_cafe and tem_pao)\n",
        "print(tem_cafe or tem_pao)"
      ],
      "execution_count": 3,
      "outputs": [
        {
          "output_type": "stream",
          "text": [
            "True\n",
            "False\n",
            "True\n"
          ],
          "name": "stdout"
        }
      ]
    },
    {
      "cell_type": "markdown",
      "metadata": {
        "id": "5Kh7LlekygTU"
      },
      "source": [
        "> maior que\n",
        ">= maior ou igual que\n",
        "< menor que\n",
        "<= menor ou igual que\n",
        "== igual\n",
        "!= diferente"
      ]
    }
  ]
}