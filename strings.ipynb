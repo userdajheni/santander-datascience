{
  "nbformat": 4,
  "nbformat_minor": 0,
  "metadata": {
    "colab": {
      "name": "strings.ipynb",
      "provenance": [],
      "authorship_tag": "ABX9TyPA13yjuGoVG/I/+DWwJx0r",
      "include_colab_link": true
    },
    "kernelspec": {
      "name": "python3",
      "display_name": "Python 3"
    },
    "language_info": {
      "name": "python"
    }
  },
  "cells": [
    {
      "cell_type": "markdown",
      "metadata": {
        "id": "view-in-github",
        "colab_type": "text"
      },
      "source": [
        "<a href=\"https://colab.research.google.com/github/userdajheni/santander-datascience/blob/main/strings.ipynb\" target=\"_parent\"><img src=\"https://colab.research.google.com/assets/colab-badge.svg\" alt=\"Open In Colab\"/></a>"
      ]
    },
    {
      "cell_type": "code",
      "metadata": {
        "colab": {
          "base_uri": "https://localhost:8080/"
        },
        "id": "jExIGNseZt6o",
        "outputId": "f33e57ee-e7a0-47a0-82ab-c1baf6a01888"
      },
      "source": [
        "frase = \"Teu amor não falha\"\n",
        "print(frase[0])\n",
        "print(frase[1])\n",
        "print(frase[5])"
      ],
      "execution_count": 1,
      "outputs": [
        {
          "output_type": "stream",
          "text": [
            "T\n",
            "e\n",
            "m\n"
          ],
          "name": "stdout"
        }
      ]
    },
    {
      "cell_type": "code",
      "metadata": {
        "colab": {
          "base_uri": "https://localhost:8080/"
        },
        "id": "2NLs29lRamvc",
        "outputId": "027a157a-c67e-4f99-daf1-4bc07e7bcacb"
      },
      "source": [
        "tamanho = len(frase)\n",
        "print(\"A frase possui\", tamanho, \"caracteres\")"
      ],
      "execution_count": 3,
      "outputs": [
        {
          "output_type": "stream",
          "text": [
            "A frase possui 18 caracteres\n"
          ],
          "name": "stdout"
        }
      ]
    },
    {
      "cell_type": "markdown",
      "metadata": {
        "id": "WJcbBLYmbvZN"
      },
      "source": [
        "String são imutaveis: não podemos alterar caracteres individuais. A linha abaixo se executada retornará um erro no programa:\n",
        "frase[4] = \"C\""
      ]
    },
    {
      "cell_type": "code",
      "metadata": {
        "colab": {
          "base_uri": "https://localhost:8080/"
        },
        "id": "gw_-V3XIc0kq",
        "outputId": "ea8268ae-d02d-437b-9f8a-98b329b2aa17"
      },
      "source": [
        "# Podemos converter strings para lista\n",
        "print(frase, type(frase))\n",
        "lista_frase = list(frase)\n",
        "print(lista_frase, type(lista_frase))"
      ],
      "execution_count": 5,
      "outputs": [
        {
          "output_type": "stream",
          "text": [
            "Teu amor não falha <class 'str'>\n",
            "['T', 'e', 'u', ' ', 'a', 'm', 'o', 'r', ' ', 'n', 'ã', 'o', ' ', 'f', 'a', 'l', 'h', 'a'] <class 'list'>\n"
          ],
          "name": "stdout"
        }
      ]
    },
    {
      "cell_type": "code",
      "metadata": {
        "colab": {
          "base_uri": "https://localhost:8080/"
        },
        "id": "fD9Nd30sddwN",
        "outputId": "5c5a0008-f6bc-4427-dc41-8e11ca6d8b2d"
      },
      "source": [
        "# A função join() intercala cada elemento de uma lista com uma string.\n",
        "palavra = \"Lets Code\"\n",
        "stringfinal = \"-py\".join(palavra)\n",
        "print(stringfinal)"
      ],
      "execution_count": 7,
      "outputs": [
        {
          "output_type": "stream",
          "text": [
            "L-pye-pyt-pys-py -pyC-pyo-pyd-pye\n"
          ],
          "name": "stdout"
        }
      ]
    },
    {
      "cell_type": "code",
      "metadata": {
        "colab": {
          "base_uri": "https://localhost:8080/"
        },
        "id": "OLv-QPInf9rU",
        "outputId": "d0f13295-4faa-4c4e-db36-0285ebd6e52d"
      },
      "source": [
        "# Usar um join() com uma string vazia é útil para transformar a lista de volta em string:\n",
        "stringfinal = \"\".join(palavra)\n",
        "print(stringfinal)"
      ],
      "execution_count": 8,
      "outputs": [
        {
          "output_type": "stream",
          "text": [
            "Lets Code\n"
          ],
          "name": "stdout"
        }
      ]
    },
    {
      "cell_type": "code",
      "metadata": {
        "colab": {
          "base_uri": "https://localhost:8080/"
        },
        "id": "VBCEellDhX0R",
        "outputId": "8c53efca-b80e-4f97-c5ed-5c2955d45334"
      },
      "source": [
        "fruta = \"ameixa e carambola\"\n",
        "\n",
        "s1 = fruta.capitalize() # 1ª letra em maiuscula e o resto em minuscula\n",
        "s2 = fruta.title() # todo inicio de palavra em maiuscula\n",
        "s3 = fruta.upper() # string inteira em maiuscula\n",
        "s4 = fruta.lower() #string inteira em minuscula\n",
        "s5 = fruta.replace(\"A\", \"C\") # substitui a primeira substring pela segunda\n",
        "\n",
        "print(s1)\n",
        "print(s2)\n",
        "print(s3)\n",
        "print(s4)\n",
        "print(s5)\n",
        "\n",
        "# Note que nenhuma dela altera a string original, elas sempre retornam a string nova\n",
        "print(\"String original:\", fruta)"
      ],
      "execution_count": 10,
      "outputs": [
        {
          "output_type": "stream",
          "text": [
            "Ameixa e carambola\n",
            "Ameixa E Carambola\n",
            "AMEIXA E CARAMBOLA\n",
            "ameixa e carambola\n",
            "ameixa e carambola\n",
            "String original: ameixa e carambola\n"
          ],
          "name": "stdout"
        }
      ]
    },
    {
      "cell_type": "code",
      "metadata": {
        "colab": {
          "base_uri": "https://localhost:8080/"
        },
        "id": "rjzxstZhjbjT",
        "outputId": "0998e004-5eb0-4229-d5ef-e2f0d142927c"
      },
      "source": [
        "# Outra possibilidade com strings é quebrar a string em uma lista de substrings Sempre que o caractere especificado é encontrado, a string é quebrada\n",
        "quebra1 = fruta.split(' ') # quebra a frase no caractere espaço em branco\n",
        "quebra2 = s3.split('A') # quebra a frase em masiuculas no caractere A\n",
        "\n",
        "print(quebra1)\n",
        "print(quebra2)"
      ],
      "execution_count": 11,
      "outputs": [
        {
          "output_type": "stream",
          "text": [
            "['ameixa', 'e', 'carambola']\n",
            "['', 'MEIX', ' E C', 'R', 'MBOL', '']\n"
          ],
          "name": "stdout"
        }
      ]
    },
    {
      "cell_type": "code",
      "metadata": {
        "colab": {
          "base_uri": "https://localhost:8080/"
        },
        "id": "6cc_42lGkBI0",
        "outputId": "b097e604-54b1-45fc-ae61-bd0c072c1ebe"
      },
      "source": [
        "fruta = \"Banana \\nMamão\" # quebra de linha com \\n\n",
        "print(fruta)\n",
        "\n",
        "fruta = \"Banana Mamão\"\n",
        "\n",
        "fruta = \"Banana\\tMamão\" # coloca espaço com \\t\n",
        "print(fruta)\n",
        "\n",
        "fruta = \"Banana Mamão\"\n",
        "\n",
        "fruta = \"Banana \\\\ Mamão\" # coloca uma barra \\\n",
        "print(fruta)"
      ],
      "execution_count": 14,
      "outputs": [
        {
          "output_type": "stream",
          "text": [
            "Banana \n",
            "Mamão\n",
            "Banana\tMamão\n",
            "Banana \\ Mamão\n"
          ],
          "name": "stdout"
        }
      ]
    }
  ]
}