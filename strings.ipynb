{
  "nbformat": 4,
  "nbformat_minor": 0,
  "metadata": {
    "colab": {
      "name": "strings.ipynb",
      "provenance": [],
      "authorship_tag": "ABX9TyPjOw/LVZIypw70UwRNVXBF",
      "include_colab_link": true
    },
    "kernelspec": {
      "name": "python3",
      "display_name": "Python 3"
    },
    "language_info": {
      "name": "python"
    }
  },
  "cells": [
    {
      "cell_type": "markdown",
      "metadata": {
        "id": "view-in-github",
        "colab_type": "text"
      },
      "source": [
        "<a href=\"https://colab.research.google.com/github/userdajheni/santander-datascience/blob/main/strings.ipynb\" target=\"_parent\"><img src=\"https://colab.research.google.com/assets/colab-badge.svg\" alt=\"Open In Colab\"/></a>"
      ]
    },
    {
      "cell_type": "code",
      "metadata": {
        "colab": {
          "base_uri": "https://localhost:8080/"
        },
        "id": "jExIGNseZt6o",
        "outputId": "f33e57ee-e7a0-47a0-82ab-c1baf6a01888"
      },
      "source": [
        "frase = \"Teu amor não falha\"\n",
        "print(frase[0])\n",
        "print(frase[1])\n",
        "print(frase[5])"
      ],
      "execution_count": null,
      "outputs": [
        {
          "output_type": "stream",
          "text": [
            "T\n",
            "e\n",
            "m\n"
          ],
          "name": "stdout"
        }
      ]
    },
    {
      "cell_type": "code",
      "metadata": {
        "colab": {
          "base_uri": "https://localhost:8080/"
        },
        "id": "2NLs29lRamvc",
        "outputId": "027a157a-c67e-4f99-daf1-4bc07e7bcacb"
      },
      "source": [
        "tamanho = len(frase)\n",
        "print(\"A frase possui\", tamanho, \"caracteres\")"
      ],
      "execution_count": null,
      "outputs": [
        {
          "output_type": "stream",
          "text": [
            "A frase possui 18 caracteres\n"
          ],
          "name": "stdout"
        }
      ]
    },
    {
      "cell_type": "markdown",
      "metadata": {
        "id": "WJcbBLYmbvZN"
      },
      "source": [
        "String são imutaveis: não podemos alterar caracteres individuais. A linha abaixo se executada retornará um erro no programa:\n",
        "frase[4] = \"C\""
      ]
    },
    {
      "cell_type": "code",
      "metadata": {
        "colab": {
          "base_uri": "https://localhost:8080/"
        },
        "id": "gw_-V3XIc0kq",
        "outputId": "ea8268ae-d02d-437b-9f8a-98b329b2aa17"
      },
      "source": [
        "# Podemos converter strings para lista\n",
        "print(frase, type(frase))\n",
        "lista_frase = list(frase)\n",
        "print(lista_frase, type(lista_frase))"
      ],
      "execution_count": null,
      "outputs": [
        {
          "output_type": "stream",
          "text": [
            "Teu amor não falha <class 'str'>\n",
            "['T', 'e', 'u', ' ', 'a', 'm', 'o', 'r', ' ', 'n', 'ã', 'o', ' ', 'f', 'a', 'l', 'h', 'a'] <class 'list'>\n"
          ],
          "name": "stdout"
        }
      ]
    },
    {
      "cell_type": "code",
      "metadata": {
        "colab": {
          "base_uri": "https://localhost:8080/"
        },
        "id": "fD9Nd30sddwN",
        "outputId": "5c5a0008-f6bc-4427-dc41-8e11ca6d8b2d"
      },
      "source": [
        "# A função join() intercala cada elemento de uma lista com uma string.\n",
        "palavra = \"Lets Code\"\n",
        "stringfinal = \"-py\".join(palavra)\n",
        "print(stringfinal)"
      ],
      "execution_count": null,
      "outputs": [
        {
          "output_type": "stream",
          "text": [
            "L-pye-pyt-pys-py -pyC-pyo-pyd-pye\n"
          ],
          "name": "stdout"
        }
      ]
    },
    {
      "cell_type": "code",
      "metadata": {
        "colab": {
          "base_uri": "https://localhost:8080/"
        },
        "id": "OLv-QPInf9rU",
        "outputId": "d0f13295-4faa-4c4e-db36-0285ebd6e52d"
      },
      "source": [
        "# Usar um join() com uma string vazia é útil para transformar a lista de volta em string:\n",
        "stringfinal = \"\".join(palavra)\n",
        "print(stringfinal)"
      ],
      "execution_count": null,
      "outputs": [
        {
          "output_type": "stream",
          "text": [
            "Lets Code\n"
          ],
          "name": "stdout"
        }
      ]
    },
    {
      "cell_type": "code",
      "metadata": {
        "colab": {
          "base_uri": "https://localhost:8080/"
        },
        "id": "VBCEellDhX0R",
        "outputId": "8c53efca-b80e-4f97-c5ed-5c2955d45334"
      },
      "source": [
        "fruta = \"ameixa e carambola\"\n",
        "\n",
        "s1 = fruta.capitalize() # 1ª letra em maiuscula e o resto em minuscula\n",
        "s2 = fruta.title() # todo inicio de palavra em maiuscula\n",
        "s3 = fruta.upper() # string inteira em maiuscula\n",
        "s4 = fruta.lower() #string inteira em minuscula\n",
        "s5 = fruta.replace(\"A\", \"C\") # substitui a primeira substring pela segunda\n",
        "\n",
        "print(s1)\n",
        "print(s2)\n",
        "print(s3)\n",
        "print(s4)\n",
        "print(s5)\n",
        "\n",
        "# Note que nenhuma dela altera a string original, elas sempre retornam a string nova\n",
        "print(\"String original:\", fruta)"
      ],
      "execution_count": null,
      "outputs": [
        {
          "output_type": "stream",
          "text": [
            "Ameixa e carambola\n",
            "Ameixa E Carambola\n",
            "AMEIXA E CARAMBOLA\n",
            "ameixa e carambola\n",
            "ameixa e carambola\n",
            "String original: ameixa e carambola\n"
          ],
          "name": "stdout"
        }
      ]
    },
    {
      "cell_type": "code",
      "metadata": {
        "colab": {
          "base_uri": "https://localhost:8080/"
        },
        "id": "rjzxstZhjbjT",
        "outputId": "0998e004-5eb0-4229-d5ef-e2f0d142927c"
      },
      "source": [
        "# Outra possibilidade com strings é quebrar a string em uma lista de substrings Sempre que o caractere especificado é encontrado, a string é quebrada\n",
        "quebra1 = fruta.split(' ') # quebra a frase no caractere espaço em branco\n",
        "quebra2 = s3.split('A') # quebra a frase em masiuculas no caractere A\n",
        "\n",
        "print(quebra1)\n",
        "print(quebra2)"
      ],
      "execution_count": null,
      "outputs": [
        {
          "output_type": "stream",
          "text": [
            "['ameixa', 'e', 'carambola']\n",
            "['', 'MEIX', ' E C', 'R', 'MBOL', '']\n"
          ],
          "name": "stdout"
        }
      ]
    },
    {
      "cell_type": "code",
      "metadata": {
        "colab": {
          "base_uri": "https://localhost:8080/"
        },
        "id": "6cc_42lGkBI0",
        "outputId": "b097e604-54b1-45fc-ae61-bd0c072c1ebe"
      },
      "source": [
        "fruta = \"Banana \\nMamão\" # quebra de linha com \\n\n",
        "print(fruta)\n",
        "\n",
        "fruta = \"Banana Mamão\"\n",
        "\n",
        "fruta = \"Banana\\tMamão\" # coloca espaço com \\t\n",
        "print(fruta)\n",
        "\n",
        "fruta = \"Banana Mamão\"\n",
        "\n",
        "fruta = \"Banana \\\\ Mamão\" # coloca uma barra \\\n",
        "print(fruta)"
      ],
      "execution_count": null,
      "outputs": [
        {
          "output_type": "stream",
          "text": [
            "Banana \n",
            "Mamão\n",
            "Banana\tMamão\n",
            "Banana \\ Mamão\n"
          ],
          "name": "stdout"
        }
      ]
    },
    {
      "cell_type": "code",
      "metadata": {
        "colab": {
          "base_uri": "https://localhost:8080/"
        },
        "id": "sWBKeZhjk6eQ",
        "outputId": "e2299a46-d0d4-4107-8fe8-2de064ae88f5"
      },
      "source": [
        "frase_exemplo = \"O professor Pietro da Lets's Code disse: \\\"Hoje a pizza é por minha conta\\\"\" # imprimir aspas duplas\n",
        "print(frase_exemplo)"
      ],
      "execution_count": null,
      "outputs": [
        {
          "output_type": "stream",
          "text": [
            "O professor Pietro da Lets's Code disse: \"Hoje a pizza é por minha conta\"\n"
          ],
          "name": "stdout"
        }
      ]
    },
    {
      "cell_type": "code",
      "metadata": {
        "colab": {
          "base_uri": "https://localhost:8080/"
        },
        "id": "yUy3PdYel1xz",
        "outputId": "94a4db46-8e91-47ff-a254-b716d5f45636"
      },
      "source": [
        "empresa = 'Google'\n",
        "print(empresa[0])\n",
        "print(empresa[:3])"
      ],
      "execution_count": null,
      "outputs": [
        {
          "output_type": "stream",
          "text": [
            "G\n",
            "Goo\n"
          ],
          "name": "stdout"
        }
      ]
    },
    {
      "cell_type": "code",
      "metadata": {
        "colab": {
          "base_uri": "https://localhost:8080/"
        },
        "id": "PlIH2P9cmW0Y",
        "outputId": "7e835e4e-3ff0-490a-b2f0-08a94d048922"
      },
      "source": [
        "times = \"Santos, São Paulo, Palmeiras, Bahia, Flamengo\"\n",
        "print(times)\n",
        "\n",
        "times = times.split(', ') #caractere que está semparando os elementos\n",
        "print(times)"
      ],
      "execution_count": null,
      "outputs": [
        {
          "output_type": "stream",
          "text": [
            "Santos, São Paulo, Palmeiras, Bahia, Flamengo\n",
            "['Santos', 'São Paulo', 'Palmeiras', 'Bahia', 'Flamengo']\n"
          ],
          "name": "stdout"
        }
      ]
    },
    {
      "cell_type": "code",
      "metadata": {
        "colab": {
          "base_uri": "https://localhost:8080/"
        },
        "id": "N79-fpsEnDBR",
        "outputId": "e6944f5c-5e00-4849-a4d8-0716a325d9be"
      },
      "source": [
        "cabecalho = \"       MENU PRINCIPAL      \"\n",
        "print(cabecalho)\n",
        "print(cabecalho.strip())"
      ],
      "execution_count": null,
      "outputs": [
        {
          "output_type": "stream",
          "text": [
            "       MENU PRINCIPAL      \n",
            "MENU PRINCIPAL\n"
          ],
          "name": "stdout"
        }
      ]
    },
    {
      "cell_type": "code",
      "metadata": {
        "colab": {
          "base_uri": "https://localhost:8080/"
        },
        "id": "I8tt6-0ynhK-",
        "outputId": "1bb4b5f7-eb40-4a26-d22d-ab8a19bf2bed"
      },
      "source": [
        "estado = \"rIo DE jaNeirO\"\n",
        "\n",
        "print(estado)\n",
        "print(estado.title()) # cada palavra começa com letra maiuscula\n",
        "print(estado.capitalize()) # caixa alta apenas a primeira letra da frase\n",
        "print(estado.lower()) # tudo em minusculo\n",
        "print(estado.upper()) # tudo em maiusculo"
      ],
      "execution_count": null,
      "outputs": [
        {
          "output_type": "stream",
          "text": [
            "rIo DE jaNeirO\n",
            "Rio De Janeiro\n",
            "Rio de janeiro\n",
            "rio de janeiro\n",
            "RIO DE JANEIRO\n"
          ],
          "name": "stdout"
        }
      ]
    },
    {
      "cell_type": "code",
      "metadata": {
        "colab": {
          "base_uri": "https://localhost:8080/"
        },
        "id": "4CjtfGFboYxf",
        "outputId": "0a8650a1-ee9d-4353-b23b-50df7d331321"
      },
      "source": [
        "nome_cidade = input(\"Que cidade do Brasil é conhecida como cidade maravilhosa? \")\n",
        "nome_cidade = nome_cidade.strip() # corta os espaços a mais\n",
        "while nome_cidade.lower() != \"rio de janeiro\":\n",
        "  print('Tenta de novo, vai')\n",
        "  nome_cidade = input(\"Que cidade do Brasil é conhecida como cidade maravilhosa?\")\n",
        "print(\"Boa campeão\")"
      ],
      "execution_count": null,
      "outputs": [
        {
          "output_type": "stream",
          "text": [
            "Que cidade do Brasil é conhecida como cidade maravilhosa? rio BRANCO\n",
            "Tenta de novo, vai\n",
            "Que cidade do Brasil é conhecida como cidade maravilhosa?RIO de JAneiRO\n",
            "Boa campeão\n"
          ],
          "name": "stdout"
        }
      ]
    },
    {
      "cell_type": "code",
      "metadata": {
        "colab": {
          "base_uri": "https://localhost:8080/"
        },
        "id": "bSNECBrXpgFH",
        "outputId": "122f9f71-3d68-4775-d228-ef8838e6ae4e"
      },
      "source": [
        "mensagem = \"voce viu o que o Pietro disse na sala ontem?\"\n",
        "fui_citado = \"Pietro\" in mensagem\n",
        "print(fui_citado)"
      ],
      "execution_count": null,
      "outputs": [
        {
          "output_type": "stream",
          "text": [
            "True\n"
          ],
          "name": "stdout"
        }
      ]
    },
    {
      "cell_type": "code",
      "metadata": {
        "colab": {
          "base_uri": "https://localhost:8080/"
        },
        "id": "hKxdphxsrWNU",
        "outputId": "91ea8d7e-a842-4ed0-de29-333fad065673"
      },
      "source": [
        "# Concatenação\n",
        "palavra1 = \"Lets\"\n",
        "palavra2 = \"Code\"\n",
        "palavra3 = palavra1 + palavra2\n",
        "print(palavra3)"
      ],
      "execution_count": null,
      "outputs": [
        {
          "output_type": "stream",
          "text": [
            "LetsCode\n"
          ],
          "name": "stdout"
        }
      ]
    },
    {
      "cell_type": "code",
      "metadata": {
        "colab": {
          "base_uri": "https://localhost:8080/"
        },
        "id": "IsxcGZLsrnA3",
        "outputId": "f461e4c4-3e8a-4bf0-d47a-8ffcddf3d306"
      },
      "source": [
        "# copiar string n vezes\n",
        "palavra = \"uma\"\n",
        "trespalavras = 3*palavra\n",
        "print(trespalavras)"
      ],
      "execution_count": null,
      "outputs": [
        {
          "output_type": "stream",
          "text": [
            "umaumauma\n"
          ],
          "name": "stdout"
        }
      ]
    },
    {
      "cell_type": "markdown",
      "metadata": {
        "id": "ZODEC8wewEgf"
      },
      "source": [
        "A função **Format()** serve para preencher os espaços em branco em uma string, que são representados por chaves {}. É uma forma de concatenação"
      ]
    },
    {
      "cell_type": "code",
      "metadata": {
        "colab": {
          "base_uri": "https://localhost:8080/"
        },
        "id": "1kx2QamJuOKG",
        "outputId": "c20e571d-b433-4f33-cbba-08f9d148adc2"
      },
      "source": [
        "prod = \"chocolate\"\n",
        "preco = 2.50\n",
        "print(\"O produto {} custa {} reais.\".format(prod,preco))"
      ],
      "execution_count": 1,
      "outputs": [
        {
          "output_type": "stream",
          "text": [
            "O produto chocolate custa 2.5 reais.\n"
          ],
          "name": "stdout"
        }
      ]
    },
    {
      "cell_type": "code",
      "metadata": {
        "colab": {
          "base_uri": "https://localhost:8080/"
        },
        "id": "jHpLUb3zxMOL",
        "outputId": "75c69456-c7ea-477e-e19b-5bf7dbaf9db5"
      },
      "source": [
        "#Dois pontos : indica que terá opções\n",
        "#Ponto 2 (.2) indica que será duas casas decimais\n",
        "#F indica que o valor sera um float\n",
        "\n",
        "gasolina = 5\n",
        "frase_gasolina = \"O litro da gasolina custa {:.2f}\"\n",
        "print(frase_gasolina.format(gasolina))"
      ],
      "execution_count": 4,
      "outputs": [
        {
          "output_type": "stream",
          "text": [
            "O litro da gasolina custa 5.00\n"
          ],
          "name": "stdout"
        }
      ]
    },
    {
      "cell_type": "code",
      "metadata": {
        "colab": {
          "base_uri": "https://localhost:8080/"
        },
        "id": "LNO7mJnWyCy-",
        "outputId": "6960fd62-ce96-4ba4-be69-74cc6a81188f"
      },
      "source": [
        "# indicar a ordem que aparecerá as strings\n",
        "\n",
        "print(\"Exemplo 1: {2}, {1}, and {0}\".format(\"a\", \"b\", \"c\"))\n",
        "print(\"Exemplo 2: {0}{1}{0}\".format(\"abra\",\"cad\"))"
      ],
      "execution_count": 6,
      "outputs": [
        {
          "output_type": "stream",
          "text": [
            "Exemplo 1: c, b, and a\n",
            "Exemplo 2: abracadabra\n"
          ],
          "name": "stdout"
        }
      ]
    },
    {
      "cell_type": "code",
      "metadata": {
        "colab": {
          "base_uri": "https://localhost:8080/"
        },
        "id": "5kAtkx1ayacZ",
        "outputId": "d88a00e1-5318-46a3-b6fa-d81114a3c1cf"
      },
      "source": [
        "dia = 4\n",
        "mes = 7\n",
        "ano = 2021\n",
        "\n",
        "data = \"{}/{}/{}\".format(dia,mes,ano)\n",
        "print(data)\n",
        "\n",
        "# A opção d significa que o valor será um inteiro\n",
        "data2 = '{:2d}/{:2d}/{:4d}'.format(dia, mes, ano)\n",
        "print(data2)\n",
        "\n",
        "# Forçar que os espaços em branco sejam preenchidos com zero\n",
        "data3 = \"{:02d}/{:02d}/{:04d}\".format(dia, mes, ano)\n",
        "print(data)"
      ],
      "execution_count": 15,
      "outputs": [
        {
          "output_type": "stream",
          "text": [
            "4/7/2021\n",
            " 4/ 7/2021\n",
            "04/07/2021\n"
          ],
          "name": "stdout"
        }
      ]
    },
    {
      "cell_type": "code",
      "metadata": {
        "colab": {
          "base_uri": "https://localhost:8080/"
        },
        "id": "S9HmSOOrz2gM",
        "outputId": "d01beac8-e6b6-449b-efb9-bf4cfb69846c"
      },
      "source": [
        "# Simplificando o uso do format\n",
        "\n",
        "nome = \"Pietro\"\n",
        "profissao = \"professor\"\n",
        "escola = \"Let's Code\"\n",
        "\n",
        "print(f\"{nome} é {profissao} da {escola}\")"
      ],
      "execution_count": 16,
      "outputs": [
        {
          "output_type": "stream",
          "text": [
            "Pietro é professor da Let's Code\n"
          ],
          "name": "stdout"
        }
      ]
    },
    {
      "cell_type": "code",
      "metadata": {
        "id": "-OVPqGX83Bdo"
      },
      "source": [
        ""
      ],
      "execution_count": null,
      "outputs": []
    }
  ]
}